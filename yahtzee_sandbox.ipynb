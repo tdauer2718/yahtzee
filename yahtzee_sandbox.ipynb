{
 "cells": [
  {
   "cell_type": "code",
   "execution_count": 1,
   "metadata": {},
   "outputs": [],
   "source": [
    "from collections import defaultdict\n",
    "from dataclasses import dataclass\n",
    "from enum import Enum\n",
    "from itertools import chain, combinations\n",
    "import random\n",
    "from typing import Dict, List, Optional, Set, Tuple, Union"
   ]
  },
  {
   "cell_type": "markdown",
   "metadata": {},
   "source": [
    "A state in the game consists of a `ScoreCard`, `Roll`, and `rolls_completed` from 1 to 3 within the turn. The `ScoreCard` contains all needed information from the previous turns. The `Roll` just contains the values of the five dice that have been rolled at a given point.\n",
    "\n",
    "~~I need to write a function that takes a `ScoreCard` and a `Roll` and returns the possible scores for the `Roll` (given what's already been marked on the `ScoreCard`).~~\n",
    "\n",
    "~~I also need to write a function that returns the possible actions given a `Roll` and a `rolls_completed` value.~~ One of the types of actions is \"score\", which a player can do given any `Roll` and `rolls_completed`, and is required to do if `rolls_completed` is 3. The possibilities are given by outputs of the scoring function described above subject to the relevant box on the `ScoreCard` not already having been used. The other actions involve leaving some number of the five dice on the table, so the others can be re-rolled if the turn is not over. These last actions are easy to encode: I can just write them as a subset of $\\{1, 2, 3, 4, 5\\}$, denoting the positions of dice to leave alone; there are 31 possibilities (choosing the whole set means some \"score\" action is chosen instead of re-rolling).\n",
    "\n",
    "Finally, I need to write code that actually plays the game by executing the rolls sequentially and calculates scores given the player's actions; i.e., I need to write the reward function and a function for executing rolls."
   ]
  },
  {
   "cell_type": "code",
   "execution_count": 2,
   "metadata": {},
   "outputs": [],
   "source": [
    "class Box(Enum):\n",
    "    Ones = \"ones\"\n",
    "    Twos = \"twos\"\n",
    "    Threes = \"threes\"\n",
    "    Fours = \"fours\"\n",
    "    Fives = \"fives\"\n",
    "    Sixes = \"sixes\"\n",
    "    ThreeOfAKind = \"three_of_a_kind\"\n",
    "    FourOfAKind = \"four_of_a_kind\"\n",
    "    FullHouse = \"full_house\"\n",
    "    SmallStraight = \"small_straight\"\n",
    "    LargeStraight = \"large_straight\"\n",
    "    Yahtzee = \"yahtzee\"\n",
    "    Chance = \"chance\""
   ]
  },
  {
   "cell_type": "code",
   "execution_count": 3,
   "metadata": {},
   "outputs": [],
   "source": [
    "class Die:\n",
    "    def __init__(self, value: int):\n",
    "        if value in range(1, 7):\n",
    "            self.value = value\n",
    "        else:\n",
    "            raise ValueError(\"Value must be an integer from 1 to 6.\")\n",
    "    \n",
    "    def __repr__(self):\n",
    "        return f\"Value = {self.value}\""
   ]
  },
  {
   "cell_type": "code",
   "execution_count": 4,
   "metadata": {},
   "outputs": [],
   "source": [
    "@dataclass(frozen=True)\n",
    "class RollAction:\n",
    "    dice_positions_to_keep: Tuple\n",
    "\n",
    "@dataclass(frozen=True)\n",
    "class ScoreAction:\n",
    "    score: int\n",
    "    dice_positions: Tuple\n",
    "    box: Box"
   ]
  },
  {
   "cell_type": "code",
   "execution_count": 42,
   "metadata": {},
   "outputs": [],
   "source": [
    "class Roll:\n",
    "    def __init__(self, *values):\n",
    "        self.values = tuple(sorted(values))\n",
    "        self.dice = [Die(v) for v in self.values]\n",
    "    \n",
    "    def __repr__(self):\n",
    "        return f\"Dice values = {', '.join([str(d.value) for d in self.dice])}\"\n",
    "    \n",
    "    def dice_positions(self, value) -> Tuple:\n",
    "        return tuple(pos for pos, v in enumerate(self.values) if v == value)\n",
    "    \n",
    "    @property\n",
    "    def value_counts(self):\n",
    "        result = defaultdict(int)\n",
    "        for v in self.values:\n",
    "            result[v] += 1\n",
    "        return result\n",
    "    \n",
    "    def is_three_of_a_kind(self) -> bool:\n",
    "        return any([v == 3 for v in self.value_counts.values()])\n",
    "    \n",
    "    def is_four_of_a_kind(self) -> bool:\n",
    "        return any([v == 4 for v in self.value_counts.values()])\n",
    "    \n",
    "    def is_full_house(self) -> bool:\n",
    "        return self.is_three_of_a_kind() and any([v == 2 for v in self.value_counts.values()])\n",
    "\n",
    "    def is_small_straight(self) -> bool:\n",
    "        values = set(self.values)\n",
    "        return {1, 2, 3, 4}.issubset(values) or {2, 3, 4, 5}.issubset(values) or {3, 4, 5, 6}.issubset(values)\n",
    "    \n",
    "    def is_large_straight(self) -> bool:\n",
    "        return tuple(sorted(set(self.values))) in {(1, 2, 3, 4, 5), (2, 3, 4, 5, 6)}\n",
    "    \n",
    "    def is_yahtzee(self) -> bool:\n",
    "        return len(set(self.values)) == 1\n",
    "\n",
    "    @property\n",
    "    def score_actions(self) -> List[ScoreAction]:\n",
    "        \"\"\"\n",
    "        Gives the possible score actions for a roll, acting as if the Score Card is empty.\n",
    "        \"\"\"\n",
    "        results = []\n",
    "\n",
    "        upper_boxes = [Box.Ones, Box.Twos, Box.Threes, Box.Fours, Box.Fives, Box.Sixes]\n",
    "        for box, value in zip(upper_boxes, range(1, 7)):\n",
    "            score = sum([v for v in self.values if v == value])\n",
    "            dice_positions = tuple(pos for pos, v in enumerate(self.values) if v == value)\n",
    "            results.append(ScoreAction(score, dice_positions, box))\n",
    "        \n",
    "        if self.is_three_of_a_kind():\n",
    "            v = [v for v, c in self.value_counts.items() if c >= 3][0]\n",
    "            score = 3 * v\n",
    "            dice_positions = self.dice_positions(v)\n",
    "            box = Box.ThreeOfAKind\n",
    "            results.append(ScoreAction(score, dice_positions, box))\n",
    "        else:\n",
    "            results.append(ScoreAction(0, (), Box.ThreeOfAKind))\n",
    "        \n",
    "        if self.is_four_of_a_kind():\n",
    "            v = [v for v, c in self.value_counts.items() if c >= 4][0]\n",
    "            score = 4 * v\n",
    "            dice_positions = self.dice_positions(v)\n",
    "            box = Box.FourOfAKind\n",
    "            results.append(ScoreAction(score, dice_positions, box))\n",
    "        else:\n",
    "            results.append(ScoreAction(0, (), Box.FourOfAKind))\n",
    "        \n",
    "        if self.is_full_house():\n",
    "            score = 25\n",
    "            dice_positions = tuple(range(5))\n",
    "            box = Box.FullHouse\n",
    "            results.append(ScoreAction(score, dice_positions, box))\n",
    "        else:\n",
    "            results.append(ScoreAction(0, (), Box.FullHouse))\n",
    "\n",
    "        if self.is_small_straight():\n",
    "            score = 30\n",
    "            box = Box.SmallStraight\n",
    "            if self.is_large_straight():\n",
    "                dice_positions = tuple(range(5))\n",
    "                results.append(ScoreAction(score, dice_positions, box))\n",
    "            else:\n",
    "                small_straights = [{1, 2, 3, 4}, {2, 3, 4, 5}, {3, 4, 5, 6}]\n",
    "                values = set(self.values)\n",
    "                not_in_small_straight = []\n",
    "                for s in small_straights:\n",
    "                    if s.issubset(values):\n",
    "                        not_in_small_straight = list(values - s)\n",
    "                        break\n",
    "                if len(not_in_small_straight) == 0:\n",
    "                    # If there is a repeated value, then return two SmallStraight actions.\n",
    "                    # These two actions contain different dice positions. This may be\n",
    "                    # convenient later for choosing which dice to reroll.\n",
    "                    repeated_value = [v for v, c in self.value_counts.items() if c == 2][0]\n",
    "                    repeated_value_positions = self.dice_positions(repeated_value)\n",
    "                    for pos in repeated_value_positions:\n",
    "                        dice_positions = tuple(sorted(set(range(5)) - {pos}))\n",
    "                        results.append(ScoreAction(score, dice_positions, box))\n",
    "                else:\n",
    "                    dice_positions = tuple(sorted(set(range(5)) - set(self.dice_positions(not_in_small_straight[0]))))\n",
    "                    results.append(ScoreAction(score, dice_positions, box))\n",
    "\n",
    "        else:\n",
    "            results.append(ScoreAction(0, (), Box.LargeStraight))\n",
    "\n",
    "        if self.is_large_straight():\n",
    "            score = 40\n",
    "            dice_positions = tuple(range(5))\n",
    "            box = Box.LargeStraight\n",
    "            results.append(ScoreAction(score, dice_positions, box))\n",
    "        else:\n",
    "            results.append(ScoreAction(0, (), Box.LargeStraight))\n",
    "\n",
    "        if self.is_yahtzee():\n",
    "            # For simplicity, ignore Yahtzee bonus and joker rules for now.\n",
    "            # Later I will likely add that functionality at the GameState\n",
    "            # level instead of here, since I'd prefer that the Roll class \n",
    "            # not depend on ScoreCard. (I may change my mind on this.)\n",
    "            v = self.values[0]\n",
    "            score = 50\n",
    "            dice_positions = tuple(range(5))\n",
    "            box = Box.Yahtzee\n",
    "            results.append(ScoreAction(score, dice_positions, box))\n",
    "        else:\n",
    "            results.append(ScoreAction(0, (), Box.Yahtzee))\n",
    "\n",
    "        # Chance\n",
    "        score = sum(self.values)\n",
    "        dice_positions = tuple(range(5))\n",
    "        box = Box.Chance\n",
    "        results.append(ScoreAction(score, dice_positions, box))\n",
    "\n",
    "        return results\n",
    "    "
   ]
  },
  {
   "cell_type": "code",
   "execution_count": 6,
   "metadata": {},
   "outputs": [],
   "source": [
    "class ScoreCard:\n",
    "    def __init__(self):\n",
    "        # For each string in the Box enum, make an attribute in this class\n",
    "        self.ones: Optional[int] = None\n",
    "        self.twos: Optional[int] = None\n",
    "        self.threes: Optional[int] = None\n",
    "        self.fours: Optional[int] = None\n",
    "        self.fives: Optional[int] = None\n",
    "        self.sixes: Optional[int] = None\n",
    "        self.three_of_a_kind: Optional[int] = None\n",
    "        self.four_of_a_kind: Optional[int] = None\n",
    "        self.full_house: Optional[int] = None\n",
    "        self.small_straight: Optional[int] = None\n",
    "        self.large_straight: Optional[int] = None\n",
    "        self.yahtzee: Optional[int] = None\n",
    "        self.chance: Optional[int] = None\n",
    "        # Maybe this should be in a test, but I'll put it here\n",
    "        # for now (makes sure Box and the attributes above match)\n",
    "        if set(vars(self).keys()) != {b.value for b in Box}:\n",
    "            raise ValueError(\"Attributes of ScoreCard must match Box enum values.\")\n",
    "\n",
    "    @property\n",
    "    def top_scores_dict(self) -> Dict[str, Optional[int]]:\n",
    "        return {\"ones\": self.ones, \"twos\": self.twos, \"threes\": self.threes, \"fours\": self.fours, \"fives\": self.fives, \"sixes\": self.sixes}\n",
    "    \n",
    "    @property\n",
    "    def bottom_scores_dict(self) -> Dict[str, Optional[int]]:\n",
    "        return {\"three_of_a_kind\": self.three_of_a_kind, \"four_of_a_kind\": self.four_of_a_kind, \"full_house\": self.full_house, \"small_straight\": self.small_straight, \"large_straight\": self.large_straight, \"yahtzee\": self.yahtzee, \"chance\": self.chance}\n",
    "\n",
    "    @property\n",
    "    def all_scores_dict(self) -> Dict[str, Optional[int]]:\n",
    "        return {**self.top_scores_dict, **self.bottom_scores_dict}\n",
    "    \n",
    "    @property\n",
    "    def top_score(self) -> int:\n",
    "        partial_sum = sum([s if s is not None else 0 for s in self.top_scores_dict.values()])\n",
    "        return partial_sum + 35 if partial_sum >= 63 else partial_sum\n",
    "    \n",
    "    @property\n",
    "    def bottom_score(self) -> int:\n",
    "        return sum([s if s is not None else 0 for s in self.bottom_scores_dict.values()])\n",
    "    \n",
    "    @property \n",
    "    def score(self) -> int:\n",
    "        return self.top_score + self.bottom_score\n",
    "    \n",
    "    @property\n",
    "    def game_finished(self) -> bool:\n",
    "        return all(self.all_scores_dict.values())\n",
    "\n",
    "    @property \n",
    "    def unused_boxes(self) -> Set[Box]:\n",
    "        return {b for b in Box if getattr(self, b.value) is None}"
   ]
  },
  {
   "cell_type": "code",
   "execution_count": 7,
   "metadata": {},
   "outputs": [],
   "source": [
    "class GameState:\n",
    "    def __init__(self, scorecard: ScoreCard, roll: Roll, rolls_completed: int):\n",
    "        if rolls_completed not in {1, 2, 3}:\n",
    "            raise ValueError(\"`rolls_completed` must be 1, 2, or 3\")\n",
    "        self.scorecard = scorecard\n",
    "        self.roll = roll\n",
    "        self.rolls_completed = rolls_completed\n",
    "        self.possible_roll_actions = [RollAction(ps) for ps in chain.from_iterable([list(combinations(range(5), i)) for i in range(5)])]\n",
    "    \n",
    "    @property\n",
    "    def possible_score_actions(self) -> List[ScoreAction]:\n",
    "        \"\"\"\n",
    "        Uses scorecard and roll to return the possible ScoreAction values.\n",
    "        \"\"\"\n",
    "        return sorted([a for a in self.roll.score_actions if a.box in self.scorecard.unused_boxes], key=lambda x: x.score, reverse=True)\n",
    "    \n",
    "    @property\n",
    "    def possible_actions(self) -> List[Union[RollAction, ScoreAction]]:\n",
    "        \"\"\"\n",
    "        Uses scorecard, roll, and rolls_completed to determine the possible actions, \n",
    "        which can be RollAction or ScoreAction values.\n",
    "        \"\"\"\n",
    "        roll_actions = self.possible_roll_actions if self.rolls_completed < 3 else []\n",
    "        return self.possible_score_actions + roll_actions"
   ]
  },
  {
   "cell_type": "code",
   "execution_count": 21,
   "metadata": {},
   "outputs": [],
   "source": [
    "def roll_first() -> Roll:\n",
    "    return Roll(*random.choices(population=range(1, 7), k=5))"
   ]
  },
  {
   "cell_type": "code",
   "execution_count": 15,
   "metadata": {},
   "outputs": [],
   "source": [
    "def roll_again(roll: Roll, roll_action: RollAction) -> Roll:\n",
    "    values_that_stay = [v for i, v in enumerate(roll.values) if i in set(roll_action.dice_positions_to_keep)]\n",
    "    new_values = random.choices(population=range(1, 7), k=(5 - len(roll_action.dice_positions_to_keep)))\n",
    "    return Roll(*(values_that_stay + new_values))"
   ]
  },
  {
   "cell_type": "markdown",
   "metadata": {},
   "source": [
    "Example of one player's turn:"
   ]
  },
  {
   "cell_type": "code",
   "execution_count": 57,
   "metadata": {},
   "outputs": [
    {
     "name": "stdout",
     "output_type": "stream",
     "text": [
      "Dice values = 1, 2, 2, 3, 5\n"
     ]
    }
   ],
   "source": [
    "scorecard = ScoreCard()\n",
    "roll = roll_first()\n",
    "rolls_completed = 1\n",
    "\n",
    "game_state = GameState(scorecard, roll, rolls_completed)\n",
    "print(roll)"
   ]
  },
  {
   "cell_type": "code",
   "execution_count": 58,
   "metadata": {},
   "outputs": [
    {
     "name": "stdout",
     "output_type": "stream",
     "text": [
      "Dice values = 2, 2, 4, 4, 6\n"
     ]
    }
   ],
   "source": [
    "roll_action = RollAction(dice_positions_to_keep=(1, 2))\n",
    "roll = roll_again(roll, roll_action)\n",
    "rolls_completed += 1\n",
    "print(roll)\n",
    "game_state = GameState(scorecard, roll, rolls_completed)"
   ]
  },
  {
   "cell_type": "code",
   "execution_count": 60,
   "metadata": {},
   "outputs": [
    {
     "name": "stdout",
     "output_type": "stream",
     "text": [
      "ScoreAction(score=18, dice_positions=(0, 1, 2, 3, 4), box=<Box.Chance: 'chance'>)\n"
     ]
    }
   ],
   "source": [
    "action = game_state.possible_score_actions[0]\n",
    "print(action)"
   ]
  },
  {
   "cell_type": "code",
   "execution_count": 62,
   "metadata": {},
   "outputs": [
    {
     "name": "stdout",
     "output_type": "stream",
     "text": [
      "Dice values = 2, 2, 4, 4, 4\n"
     ]
    }
   ],
   "source": [
    "roll_action = RollAction(dice_positions_to_keep=(0, 1, 2, 3))\n",
    "roll = roll_again(roll, roll_action)\n",
    "rolls_completed += 1\n",
    "print(roll)\n",
    "game_state = GameState(scorecard, roll, rolls_completed)"
   ]
  },
  {
   "cell_type": "code",
   "execution_count": 63,
   "metadata": {},
   "outputs": [
    {
     "name": "stdout",
     "output_type": "stream",
     "text": [
      "ScoreAction(score=25, dice_positions=(0, 1, 2, 3, 4), box=<Box.FullHouse: 'full_house'>)\n"
     ]
    }
   ],
   "source": [
    "action = game_state.possible_score_actions[0]\n",
    "print(action)"
   ]
  },
  {
   "cell_type": "code",
   "execution_count": 64,
   "metadata": {},
   "outputs": [],
   "source": [
    "setattr(scorecard, action.box.value, action.score)"
   ]
  },
  {
   "cell_type": "code",
   "execution_count": 66,
   "metadata": {},
   "outputs": [
    {
     "data": {
      "text/plain": [
       "{'ones': None,\n",
       " 'twos': None,\n",
       " 'threes': None,\n",
       " 'fours': None,\n",
       " 'fives': None,\n",
       " 'sixes': None,\n",
       " 'three_of_a_kind': None,\n",
       " 'four_of_a_kind': None,\n",
       " 'full_house': 25,\n",
       " 'small_straight': None,\n",
       " 'large_straight': None,\n",
       " 'yahtzee': None,\n",
       " 'chance': None}"
      ]
     },
     "execution_count": 66,
     "metadata": {},
     "output_type": "execute_result"
    }
   ],
   "source": [
    "scorecard.all_scores_dict"
   ]
  },
  {
   "cell_type": "code",
   "execution_count": 67,
   "metadata": {},
   "outputs": [
    {
     "data": {
      "text/plain": [
       "25"
      ]
     },
     "execution_count": 67,
     "metadata": {},
     "output_type": "execute_result"
    }
   ],
   "source": [
    "scorecard.score"
   ]
  },
  {
   "cell_type": "code",
   "execution_count": null,
   "metadata": {},
   "outputs": [],
   "source": []
  }
 ],
 "metadata": {
  "kernelspec": {
   "display_name": "NN",
   "language": "python",
   "name": "python3"
  },
  "language_info": {
   "codemirror_mode": {
    "name": "ipython",
    "version": 3
   },
   "file_extension": ".py",
   "mimetype": "text/x-python",
   "name": "python",
   "nbconvert_exporter": "python",
   "pygments_lexer": "ipython3",
   "version": "3.11.5"
  }
 },
 "nbformat": 4,
 "nbformat_minor": 2
}
