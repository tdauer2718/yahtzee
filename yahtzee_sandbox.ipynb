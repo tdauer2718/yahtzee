{
 "cells": [
  {
   "cell_type": "code",
   "execution_count": 1,
   "metadata": {},
   "outputs": [
    {
     "name": "stdout",
     "output_type": "stream",
     "text": [
      "Intel MKL WARNING: Support of Intel(R) Streaming SIMD Extensions 4.2 (Intel(R) SSE4.2) enabled only processors has been deprecated. Intel oneAPI Math Kernel Library 2025.0 will require Intel(R) Advanced Vector Extensions (Intel(R) AVX) instructions.\n",
      "Intel MKL WARNING: Support of Intel(R) Streaming SIMD Extensions 4.2 (Intel(R) SSE4.2) enabled only processors has been deprecated. Intel oneAPI Math Kernel Library 2025.0 will require Intel(R) Advanced Vector Extensions (Intel(R) AVX) instructions.\n"
     ]
    }
   ],
   "source": [
    "from abc import ABC, abstractmethod\n",
    "from collections import Counter\n",
    "from dataclasses import dataclass\n",
    "from enum import Enum\n",
    "from itertools import chain, combinations\n",
    "import matplotlib.pyplot as plt\n",
    "import numpy as np\n",
    "import pandas as pd\n",
    "import random\n",
    "from typing import Dict, List, Optional, Set, Tuple, Union"
   ]
  },
  {
   "cell_type": "markdown",
   "metadata": {},
   "source": [
    "A state in the game consists of a `ScoreCard` (score card state), `RollValues` (values of dice showing on the table), and `rolls_completed` from 1 to 3 within the turn. The `ScoreCard` contains all needed information from the previous turns. The `RollValues` just contains the values of the five dice that have been rolled at a given point.\n",
    "\n",
    "`GameState` contains all three of these objects. It provides `possible_score_actions`, which gives the scores possible with a given set of dice values and score card state. I frame these as actions because at any time the player can choose to end their turn and score with one of these values. For convenience, they are sorted in descending order by score. `GameState` also provides `possible_actions`, which includes roll actions in addition to the `possible_score_actions`. The `re_roll` method takes dice that are specified by value and rolls again. Finally, `GameState` provides an `update_score` method, which updates the scorecard given a choice of box.\n",
    "\n",
    "The current score can be accessed at any time by calling the `score` method of the `GameState`'s `scorecard`."
   ]
  },
  {
   "cell_type": "code",
   "execution_count": 2,
   "metadata": {},
   "outputs": [],
   "source": [
    "class Box(Enum):\n",
    "    Ones = \"ones\"\n",
    "    Twos = \"twos\"\n",
    "    Threes = \"threes\"\n",
    "    Fours = \"fours\"\n",
    "    Fives = \"fives\"\n",
    "    Sixes = \"sixes\"\n",
    "    ThreeOfAKind = \"three_of_a_kind\"\n",
    "    FourOfAKind = \"four_of_a_kind\"\n",
    "    FullHouse = \"full_house\"\n",
    "    SmallStraight = \"small_straight\"\n",
    "    LargeStraight = \"large_straight\"\n",
    "    Yahtzee = \"yahtzee\"\n",
    "    Chance = \"chance\""
   ]
  },
  {
   "cell_type": "code",
   "execution_count": 3,
   "metadata": {},
   "outputs": [],
   "source": [
    "class RollAction:\n",
    "    def __init__(self, *dice_values_to_roll: int):\n",
    "        if len(dice_values_to_roll) < 1:\n",
    "            raise ValueError(\"You must roll at least one die.\")\n",
    "        if len(dice_values_to_roll) > 5:\n",
    "            raise ValueError(\"You can roll at most five dice.\")\n",
    "        self.dice_values_to_roll = dice_values_to_roll\n",
    "\n",
    "    def __repr__(self):\n",
    "        return f\"RollAction(dice_values_to_roll={self.dice_values_to_roll})\"\n",
    "\n",
    "@dataclass(frozen=True)\n",
    "class ScoreAction:\n",
    "    score: int\n",
    "    dice_values: Tuple\n",
    "    box: Box"
   ]
  },
  {
   "cell_type": "code",
   "execution_count": 4,
   "metadata": {},
   "outputs": [],
   "source": [
    "class RollValues:\n",
    "    def __init__(self, *values: int):\n",
    "        if len(values) != 5:\n",
    "            raise ValueError(\"There should be exactly five dice present.\")\n",
    "        if not set(values).issubset(set(range(1, 7))):\n",
    "            raise ValueError(\"Die values must be integers from 1 to 6.\")\n",
    "        self.values = tuple(sorted(values))\n",
    "        self.value_counts = dict(Counter(self.values))\n",
    "    \n",
    "    def __repr__(self):\n",
    "        return f\"Dice values = {', '.join([str(v) for v in self.values])}\"\n",
    "    \n",
    "    def is_three_of_a_kind(self) -> bool:\n",
    "        return any([v == 3 for v in self.value_counts.values()])\n",
    "    \n",
    "    def is_four_of_a_kind(self) -> bool:\n",
    "        return any([v == 4 for v in self.value_counts.values()])\n",
    "    \n",
    "    def is_full_house(self) -> bool:\n",
    "        return self.is_three_of_a_kind() and any([v == 2 for v in self.value_counts.values()])\n",
    "\n",
    "    def is_small_straight(self) -> bool:\n",
    "        values = set(self.values)\n",
    "        return {1, 2, 3, 4}.issubset(values) or {2, 3, 4, 5}.issubset(values) or {3, 4, 5, 6}.issubset(values)\n",
    "    \n",
    "    def is_large_straight(self) -> bool:\n",
    "        return tuple(sorted(set(self.values))) in {(1, 2, 3, 4, 5), (2, 3, 4, 5, 6)}\n",
    "    \n",
    "    def is_yahtzee(self) -> bool:\n",
    "        return len(set(self.values)) == 1\n",
    "\n",
    "    @property\n",
    "    def score_actions(self) -> List[ScoreAction]:\n",
    "        \"\"\"\n",
    "        Gives the possible score actions for a roll, acting as if the Score Card is empty.\n",
    "        \"\"\"\n",
    "        results = []\n",
    "\n",
    "        upper_boxes = [Box.Ones, Box.Twos, Box.Threes, Box.Fours, Box.Fives, Box.Sixes]\n",
    "        for box, value in zip(upper_boxes, range(1, 7)):\n",
    "            score = self.value_counts[value] * value if value in self.value_counts else 0\n",
    "            dice_values = self.value_counts[value] * (value,) if value in self.value_counts else ()\n",
    "            results.append(ScoreAction(score, dice_values, box))\n",
    "        \n",
    "        if self.is_three_of_a_kind():\n",
    "            v = [v for v, c in self.value_counts.items() if c >= 3][0]\n",
    "            score = 3 * v\n",
    "            dice_values = 3 * (v,)\n",
    "            box = Box.ThreeOfAKind\n",
    "            results.append(ScoreAction(score, dice_values, box))\n",
    "        else:\n",
    "            results.append(ScoreAction(0, (), Box.ThreeOfAKind))\n",
    "        \n",
    "        if self.is_four_of_a_kind():\n",
    "            v = [v for v, c in self.value_counts.items() if c >= 4][0]\n",
    "            score = 4 * v\n",
    "            dice_values = 4 * (v,)\n",
    "            box = Box.FourOfAKind\n",
    "            results.append(ScoreAction(score, dice_values, box))\n",
    "        else:\n",
    "            results.append(ScoreAction(0, (), Box.FourOfAKind))\n",
    "        \n",
    "        if self.is_full_house():\n",
    "            score = 25\n",
    "            dice_values = tuple(v for v in self.values)  # copy instead of reference (perhaps unnecessary)\n",
    "            box = Box.FullHouse\n",
    "            results.append(ScoreAction(score, dice_values, box))\n",
    "        else:\n",
    "            results.append(ScoreAction(0, (), Box.FullHouse))\n",
    "\n",
    "        if self.is_small_straight():\n",
    "            score = 30\n",
    "            box = Box.SmallStraight\n",
    "            if self.is_large_straight():\n",
    "                dice_values = tuple(v for v in self.values)\n",
    "            else:\n",
    "                dice_values = tuple([s for s in [{1, 2, 3, 4}, {2, 3, 4, 5}, {3, 4, 5, 6}] if s.issubset(self.values)][0])\n",
    "            results.append(ScoreAction(score, dice_values, box))\n",
    "        else:\n",
    "            results.append(ScoreAction(0, (), Box.SmallStraight))\n",
    "\n",
    "        if self.is_large_straight():\n",
    "            score = 40\n",
    "            dice_values = tuple(v for v in self.values)\n",
    "            box = Box.LargeStraight\n",
    "            results.append(ScoreAction(score, dice_values, box))\n",
    "        else:\n",
    "            results.append(ScoreAction(0, (), Box.LargeStraight))\n",
    "\n",
    "        if self.is_yahtzee():\n",
    "            # For simplicity, ignore Yahtzee bonus and joker rules for now.\n",
    "            # Later I will likely add that functionality at the GameState\n",
    "            # level instead of here, since I'd prefer that the RollValues class \n",
    "            # not depend on ScoreCard. (I may change my mind on this.)\n",
    "            v = self.values[0]\n",
    "            score = 50\n",
    "            dice_values = 5 * (v,)\n",
    "            box = Box.Yahtzee\n",
    "            results.append(ScoreAction(score, dice_values, box))\n",
    "        else:\n",
    "            results.append(ScoreAction(0, (), Box.Yahtzee))\n",
    "\n",
    "        # Chance\n",
    "        score = sum(self.values)\n",
    "        dice_values = tuple(v for v in self.values)\n",
    "        box = Box.Chance\n",
    "        results.append(ScoreAction(score, dice_values, box))\n",
    "\n",
    "        return results"
   ]
  },
  {
   "cell_type": "code",
   "execution_count": 5,
   "metadata": {},
   "outputs": [],
   "source": [
    "class ScoreCard:\n",
    "    def __init__(self):\n",
    "        # For each string in the Box enum, make an attribute in this class\n",
    "        self.ones: Optional[int] = None\n",
    "        self.twos: Optional[int] = None\n",
    "        self.threes: Optional[int] = None\n",
    "        self.fours: Optional[int] = None\n",
    "        self.fives: Optional[int] = None\n",
    "        self.sixes: Optional[int] = None\n",
    "        self.three_of_a_kind: Optional[int] = None\n",
    "        self.four_of_a_kind: Optional[int] = None\n",
    "        self.full_house: Optional[int] = None\n",
    "        self.small_straight: Optional[int] = None\n",
    "        self.large_straight: Optional[int] = None\n",
    "        self.yahtzee: Optional[int] = None\n",
    "        self.chance: Optional[int] = None\n",
    "        # Maybe this should be in a test, but I'll put it here\n",
    "        # for now (makes sure Box and the attributes above match)\n",
    "        if set(vars(self).keys()) != {b.value for b in Box}:\n",
    "            raise ValueError(\"Attributes of ScoreCard must match Box enum values.\")\n",
    "        \n",
    "    def __repr__(self):\n",
    "        return pd.DataFrame(self.all_scores_dict.items(), columns=[\"Category\", \"Value\"]).to_string(index=False)\n",
    "\n",
    "    @property\n",
    "    def top_scores_dict(self) -> Dict[str, Optional[int]]:\n",
    "        return {\"ones\": self.ones, \"twos\": self.twos, \"threes\": self.threes, \"fours\": self.fours, \"fives\": self.fives, \"sixes\": self.sixes}\n",
    "    \n",
    "    @property\n",
    "    def bottom_scores_dict(self) -> Dict[str, Optional[int]]:\n",
    "        return {\"three_of_a_kind\": self.three_of_a_kind, \"four_of_a_kind\": self.four_of_a_kind, \"full_house\": self.full_house, \"small_straight\": self.small_straight, \"large_straight\": self.large_straight, \"yahtzee\": self.yahtzee, \"chance\": self.chance}\n",
    "\n",
    "    @property\n",
    "    def all_scores_dict(self) -> Dict[str, Optional[int]]:\n",
    "        return {**self.top_scores_dict, **self.bottom_scores_dict}\n",
    "    \n",
    "    @property\n",
    "    def top_score(self) -> int:\n",
    "        partial_sum = sum([s if s is not None else 0 for s in self.top_scores_dict.values()])\n",
    "        return partial_sum + 35 if partial_sum >= 63 else partial_sum\n",
    "    \n",
    "    @property\n",
    "    def bottom_score(self) -> int:\n",
    "        return sum([s if s is not None else 0 for s in self.bottom_scores_dict.values()])\n",
    "    \n",
    "    @property \n",
    "    def score(self) -> int:\n",
    "        return self.top_score + self.bottom_score\n",
    "    \n",
    "    @property\n",
    "    def game_finished(self) -> bool:\n",
    "        return all(self.all_scores_dict.values())\n",
    "\n",
    "    @property \n",
    "    def unused_boxes(self) -> Set[Box]:\n",
    "        return {b for b in Box if getattr(self, b.value) is None}\n",
    "    \n",
    "    def fill_in_box(self, box: Box, score: int):\n",
    "        setattr(self, box.value, score)"
   ]
  },
  {
   "cell_type": "code",
   "execution_count": 6,
   "metadata": {},
   "outputs": [],
   "source": [
    "def roll_first() -> RollValues:\n",
    "    return RollValues(*random.choices(population=range(1, 7), k=5))"
   ]
  },
  {
   "cell_type": "code",
   "execution_count": 7,
   "metadata": {},
   "outputs": [],
   "source": [
    "def roll_again(roll_values: RollValues, roll_action: RollAction) -> RollValues:\n",
    "    if len(Counter(roll_action.dice_values_to_roll) - Counter(roll_values.values)) != 0:\n",
    "        # It's not enough to do a subset check; consider the case where (1, 2, 3, 4, 5)\n",
    "        # are the current values and (1, 1) are the (erroneous) values to re-roll.\n",
    "        raise ValueError(\"You cannot re-roll dice that are not present.\")\n",
    "    values_that_stay = list((Counter(roll_values.values) - Counter(roll_action.dice_values_to_roll)).elements())\n",
    "    new_values = random.choices(population=range(1, 7), k=len(roll_action.dice_values_to_roll))\n",
    "    return RollValues(*(values_that_stay + new_values))"
   ]
  },
  {
   "cell_type": "code",
   "execution_count": 25,
   "metadata": {},
   "outputs": [],
   "source": [
    "class GameState:\n",
    "    def __init__(self, narrate: bool = True):\n",
    "        self.narrate = narrate\n",
    "        self.scorecard = ScoreCard()\n",
    "        self.turn_started = False\n",
    "    \n",
    "    def start_turn(self):\n",
    "        self.roll_values = roll_first()\n",
    "        self.rolls_completed = 1\n",
    "        if self.narrate:\n",
    "            print(f\"Roll number {self.rolls_completed} gives:\")\n",
    "            print(self.roll_values)\n",
    "        self.turn_started = True\n",
    "    \n",
    "    @property\n",
    "    def possible_score_actions(self) -> List[ScoreAction]:\n",
    "        \"\"\"\n",
    "        Uses scorecard and roll_values to return the possible ScoreAction values.\n",
    "        \"\"\"\n",
    "        return sorted([a for a in self.roll_values.score_actions if a.box in self.scorecard.unused_boxes], key=lambda x: x.score, reverse=True)\n",
    "\n",
    "    @property\n",
    "    def possible_roll_actions(self) -> List[RollAction]:\n",
    "        \"\"\"\n",
    "        Uses scorecard and roll_values to return the possible RollAction values.\n",
    "        Given how easy it is to determine RollAction values from a list of dice,\n",
    "        this should be implemented in a way that requires less re-computation\n",
    "        when we call possible_actions()... but for now I'll avoid premature optimization.\n",
    "        \"\"\"\n",
    "        return [RollAction(*ps) for ps in chain.from_iterable([list(combinations(self.roll_values.values, i)) for i in range(1, 6)])] if self.rolls_completed < 3 else []\n",
    "    \n",
    "    @property\n",
    "    def possible_actions(self) -> List[Union[RollAction, ScoreAction]]:\n",
    "        \"\"\"\n",
    "        Uses scorecard, roll_values, and rolls_completed to determine the possible actions, \n",
    "        which can be RollAction or ScoreAction values.\n",
    "        \"\"\"\n",
    "        return self.possible_score_actions + self.possible_roll_actions\n",
    "    \n",
    "    def re_roll(self, *dice_values_to_roll: int):\n",
    "        \"\"\"\n",
    "        Rolls the dice specified (by value) and updates roll_values and rolls_completed.\n",
    "        \"\"\"\n",
    "        if not self.turn_started:\n",
    "            raise ValueError(\"Please start your turn using the `start_turn()` method first.\")\n",
    "        roll_action = RollAction(*dice_values_to_roll)\n",
    "        if self.rolls_completed >= 3:\n",
    "            raise ValueError(\"Your three rolls for this turn have already been completed.\")\n",
    "        self.roll_values = roll_again(self.roll_values, roll_action)\n",
    "        self.rolls_completed += 1\n",
    "        if self.narrate:\n",
    "            print(f\"Roll number {self.rolls_completed} (re-rolling {', '.join([str(v) for v in dice_values_to_roll])}) gives:\")\n",
    "            print(self.roll_values)\n",
    "    \n",
    "    def update_score(self, box: Box):\n",
    "        if not self.turn_started:\n",
    "            raise ValueError(\"Please start your turn using the `start_turn()` method first.\")\n",
    "        # will need to update when I implement joker rules\n",
    "        try:\n",
    "            score = [a for a in self.possible_score_actions if a.box == box][0].score\n",
    "        except IndexError:\n",
    "            raise ValueError(\"You are trying to use a box that is already filled in.\")\n",
    "        self.scorecard.fill_in_box(box, score)\n",
    "        self.turn_started = False\n",
    "        if self.narrate:\n",
    "            print(f\"Filling in {box.name}, with value {score}\\n\")\n",
    "    \n",
    "    @property\n",
    "    def best_scores(self, n: int = 3, print_only=True):\n",
    "        if print_only:\n",
    "            for a in self.possible_score_actions[:n]:\n",
    "                print(a)\n",
    "        else:\n",
    "            return self.possible_score_actions[:n]\n",
    "        \n",
    "    def take_action(self, action: Union[ScoreAction, RollAction]):\n",
    "        if isinstance(action, ScoreAction):\n",
    "            self.update_score(action.box)\n",
    "        elif isinstance(action, RollAction):\n",
    "            self.re_roll(*action.dice_values_to_roll)\n",
    "        else:\n",
    "            raise ValueError(\"action must be an instance of `ScoreAction` or `RollAction`.\")"
   ]
  },
  {
   "cell_type": "code",
   "execution_count": 94,
   "metadata": {},
   "outputs": [],
   "source": [
    "class Agent(ABC):\n",
    "    def __init__(self, narrate: bool = False):\n",
    "        self.narrate = narrate\n",
    "\n",
    "    def play_single_game(self) -> ScoreCard:\n",
    "        game_state = GameState(narrate=self.narrate)\n",
    "        for _ in range(13):\n",
    "            game_state.start_turn()\n",
    "            while game_state.turn_started:\n",
    "                action = self.choose_action(game_state)\n",
    "                game_state.take_action(action)\n",
    "        if self.narrate:\n",
    "            print(\"Final scorecard:\\n\")\n",
    "            print(game_state.scorecard, end=\"\\n\\n\")\n",
    "            print(f\"Final score = {game_state.scorecard.score}\")\n",
    "        return game_state.scorecard\n",
    "\n",
    "    @abstractmethod\n",
    "    def choose_action(self, game_state: GameState) -> Union[RollAction, ScoreAction]:\n",
    "        \"\"\"Use self.game_state to choose a possible action.\"\"\"\n",
    "        ...\n",
    "\n",
    "    def play_games(self, n_games: int, plot_results: bool = True, histogram_bins: int = 20) -> List[int]:\n",
    "        \"\"\"\n",
    "        Plays the specified number of games with the Agent, returning the Agent's final score\n",
    "        for each game and optionally plotting the results in a histogram.\n",
    "        \"\"\"\n",
    "        agent_scores = []\n",
    "        for _ in range(n_games):\n",
    "            scorecard = self.play_single_game()\n",
    "            agent_scores.append(scorecard.score)\n",
    "        if plot_results:\n",
    "            plt.hist(agent_scores, bins=histogram_bins)\n",
    "            plt.xlabel(\"Score\")\n",
    "            plt.ylabel(\"Number of occurrences\")\n",
    "            plt.title(f\"Scores from {n_games} Yahtzee games with {type(self).__name__}\")\n",
    "            plt.show()\n",
    "            print(f\"Mean score = {np.mean(agent_scores):.3g}\")\n",
    "            print(f\"Standard deviation = {np.std(agent_scores):.3g}\")\n",
    "            \n",
    "        return agent_scores"
   ]
  },
  {
   "cell_type": "code",
   "execution_count": 90,
   "metadata": {},
   "outputs": [],
   "source": [
    "class RandomAgent(Agent):\n",
    "    \"\"\"\n",
    "    A completely random gameplay agent. At each timestep, it simply\n",
    "    chooses one of the allowed actions, uniformly at random.\n",
    "    It plays quite poorly, as often it chooses a `ScoreAction`\n",
    "    with score 0 even when there are easy better options.\n",
    "    \"\"\"\n",
    "    def choose_action(self, game_state: GameState) -> Union[RollAction, ScoreAction]:\n",
    "        return random.choice(game_state.possible_actions)"
   ]
  },
  {
   "cell_type": "code",
   "execution_count": 91,
   "metadata": {},
   "outputs": [],
   "source": [
    "class GreedyAgent(Agent):\n",
    "    \"\"\"\n",
    "    A completely greedy gameplay agent. Given a game state,\n",
    "    it always selects the action that gives the highest immediate\n",
    "    reward. That is, on each turn it always picks the highest score after just the first roll.\n",
    "    \"\"\"\n",
    "    def choose_action(self, game_state: GameState) -> ScoreAction:\n",
    "        return game_state.possible_score_actions[0]"
   ]
  },
  {
   "cell_type": "code",
   "execution_count": 74,
   "metadata": {},
   "outputs": [
    {
     "data": {
      "image/png": "[encoded data removed]",
      "text/plain": [
       "<Figure size 640x480 with 1 Axes>"
      ]
     },
     "metadata": {},
     "output_type": "display_data"
    },
    {
     "name": "stdout",
     "output_type": "stream",
     "text": [
      "Mean score = 44.2\n",
      "Standard deviation = 17.3\n"
     ]
    }
   ],
   "source": [
    "random_agent_scores = RandomAgent().play_games(n_games=10_000, histogram_bins=20)"
   ]
  },
  {
   "cell_type": "markdown",
   "metadata": {},
   "source": [
    "The mean score for a `RandomAgent` over 10,000 games is less than 50 - that's pretty bad! There is a long tail on the right, with a few scores above 100 being achieved.\n",
    "\n",
    "In this first pass at implementing the gameplay actions and scoring, I focused on development speed and cleanliness of the design. I deliberatly did not spend time optimizing for runtime speed, and it shows here, as it took several minutes to simulate 10,000 one-player games. I still think this is OK for now; I can optimize later once I start training some deep RL agents.\n",
    "\n",
    "Let's try a `GreedyAgent` instead."
   ]
  },
  {
   "cell_type": "code",
   "execution_count": 75,
   "metadata": {},
   "outputs": [
    {
     "data": {
      "image/png": "[encoded data removed]",
      "text/plain": [
       "<Figure size 640x480 with 1 Axes>"
      ]
     },
     "metadata": {},
     "output_type": "display_data"
    },
    {
     "name": "stdout",
     "output_type": "stream",
     "text": [
      "Mean score = 107\n",
      "Standard deviation = 29.6\n"
     ]
    }
   ],
   "source": [
    "greedy_agent_scores = GreedyAgent().play_games(n_games=100, histogram_bins=20)"
   ]
  },
  {
   "cell_type": "code",
   "execution_count": 76,
   "metadata": {},
   "outputs": [
    {
     "data": {
      "text/plain": [
       "0.08"
      ]
     },
     "execution_count": 76,
     "metadata": {},
     "output_type": "execute_result"
    }
   ],
   "source": [
    "sum([1 for s in greedy_agent_scores if s > 150]) / len(greedy_agent_scores)"
   ]
  },
  {
   "cell_type": "markdown",
   "metadata": {},
   "source": [
    "The `GreedyAgent` does substantially better: it achieves mean score above 100, in over 5% of games it scores better than 150, and in a few games it even gets close to 200. \n",
    "\n",
    "Still, the performance is not great compared to typcial human gameplay. I'm not a terribly skilled player, and my own threshold for a good game is a score around 200.\n",
    "\n",
    "It's pretty clear that a naive $\\epsilon$-greedy agent won't do better. Since dice have no memory, there's no advantage of sometimes taking a `RollAction` instead of the best `ScoreAction`; to do better, we'd have to pick our `RollAction` strategically, not at random. Trying out the naive agent confirms that it's not a better approach:"
   ]
  },
  {
   "cell_type": "code",
   "execution_count": 95,
   "metadata": {},
   "outputs": [],
   "source": [
    "class EpsilonGreedyAgent(Agent):\n",
    "    def __init__(self, epsilon: float):\n",
    "        if epsilon < 0 or epsilon >= 1:\n",
    "            raise ValueError(\"epsilon must be >= 0 and < 1.\")\n",
    "        self.epsilon = epsilon\n",
    "        super().__init__()\n",
    "        \n",
    "    def choose_action(self, game_state: GameState) -> Union[RollAction, ScoreAction]:\n",
    "        r = random.random()\n",
    "        if r < self.epsilon and len(game_state.possible_roll_actions) != 0:\n",
    "            action = random.choice(game_state.possible_roll_actions)\n",
    "        else:\n",
    "            action = game_state.possible_score_actions[0]\n",
    "        return action"
   ]
  },
  {
   "cell_type": "code",
   "execution_count": 96,
   "metadata": {},
   "outputs": [
    {
     "data": {
      "image/png": "[encoded data removed]",
      "text/plain": [
       "<Figure size 640x480 with 1 Axes>"
      ]
     },
     "metadata": {},
     "output_type": "display_data"
    },
    {
     "name": "stdout",
     "output_type": "stream",
     "text": [
      "Mean score = 104\n",
      "Standard deviation = 28.1\n"
     ]
    }
   ],
   "source": [
    "epsilon_greedy_agent_scores = EpsilonGreedyAgent(epsilon=0.5).play_games(n_games=10_000)"
   ]
  }
 ],
 "metadata": {
  "kernelspec": {
   "display_name": "NN",
   "language": "python",
   "name": "python3"
  },
  "language_info": {
   "codemirror_mode": {
    "name": "ipython",
    "version": 3
   },
   "file_extension": ".py",
   "mimetype": "text/x-python",
   "name": "python",
   "nbconvert_exporter": "python",
   "pygments_lexer": "ipython3",
   "version": "3.11.5"
  }
 },
 "nbformat": 4,
 "nbformat_minor": 2
}
