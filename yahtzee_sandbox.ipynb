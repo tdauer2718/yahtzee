{
 "cells": [
  {
   "cell_type": "code",
   "execution_count": null,
   "metadata": {},
   "outputs": [],
   "source": [
    "from abc import ABC, abstractmethod\n",
    "from collections import Counter, defaultdict\n",
    "from dataclasses import dataclass\n",
    "from enum import Enum\n",
    "import itertools\n",
    "import matplotlib.pyplot as plt\n",
    "import math\n",
    "import numpy as np\n",
    "import pandas as pd\n",
    "import random\n",
    "from typing import Dict, List, Optional, Set, Tuple, Union"
   ]
  },
  {
   "cell_type": "code",
   "execution_count": null,
   "metadata": {},
   "outputs": [],
   "source": [
    "from basic_utils import (\n",
    "    ALL_ROLL_TUPLES,\n",
    "    Box,\n",
    "    BoxCategories,\n",
    "    RollAction,\n",
    "    RollValues,\n",
    "    ScoreAction,\n",
    "    ScoreCard,\n",
    "    roll_first,\n",
    "    remove_dice,\n",
    "    roll_again,\n",
    "    GameState,\n",
    "    ROLL_TUPLES_BY_BOX,\n",
    ")\n",
    "from agents import Agent, EpsilonGreedyAgent, GreedyAgent, RandomAgent\n",
    "from expected_score_utils import all_expected_scores_table, expected_scores_table, best_roll_action_for_box_with_score, best_action_by_box_with_score, greedy_best_action"
   ]
  },
  {
   "cell_type": "markdown",
   "metadata": {},
   "source": [
    "A state in the game consists of a `ScoreCard` (score card state), `RollValues` (values of dice showing on the table), and `rolls_completed` from 1 to 3 within the turn. The `ScoreCard` contains all needed information from the previous turns. The `RollValues` just contains the values of the five dice that have been rolled at a given point.\n",
    "\n",
    "`GameState` contains all three of these objects. It provides `possible_score_actions`, which gives the scores possible with a given set of dice values and score card state. I frame these as actions because at any time the player can choose to end their turn and score with one of these values. For convenience, they are sorted in descending order by score. `GameState` also provides `possible_actions`, which includes roll actions in addition to the `possible_score_actions`. The `re_roll` method takes dice that are specified by value and rolls again. Finally, `GameState` provides an `update_score` method, which updates the scorecard given a choice of box.\n",
    "\n",
    "The current score can be accessed at any time by calling the `score` method of the `GameState`'s `scorecard`."
   ]
  },
  {
   "cell_type": "code",
   "execution_count": null,
   "metadata": {},
   "outputs": [],
   "source": [
    "class GreedyExpectedScoresAgentUpperBoxWeighted(Agent):\n",
    "\n",
    "    def __init__(self, upper_box_multiplier: float, narrate=False):\n",
    "        if upper_box_multiplier < 1:\n",
    "            raise ValueError(\"upper_box_multiplier must be >= 1.\")\n",
    "        self.upper_box_multiplier = upper_box_multiplier\n",
    "        super().__init__(narrate=narrate)\n",
    "\n",
    "    def choose_action(self, game_state: GameState) -> Union[RollAction, ScoreAction]:\n",
    "        if game_state.rolls_completed < 3:\n",
    "            return greedy_best_action(game_state.roll_values, game_state.scorecard.unused_boxes, self.upper_box_multiplier)\n",
    "        else:\n",
    "            return game_state.sorted_possible_score_actions[0]"
   ]
  },
  {
   "cell_type": "code",
   "execution_count": null,
   "metadata": {},
   "outputs": [],
   "source": [
    "GreedyExpectedScoresAgentUpperBoxWeighted(upper_box_multiplier=1.15, narrate=True).play_single_game()"
   ]
  },
  {
   "cell_type": "code",
   "execution_count": null,
   "metadata": {},
   "outputs": [],
   "source": []
  }
 ],
 "metadata": {
  "kernelspec": {
   "display_name": "NN",
   "language": "python",
   "name": "python3"
  },
  "language_info": {
   "codemirror_mode": {
    "name": "ipython",
    "version": 3
   },
   "file_extension": ".py",
   "mimetype": "text/x-python",
   "name": "python",
   "nbconvert_exporter": "python",
   "pygments_lexer": "ipython3",
   "version": "3.11.5"
  }
 },
 "nbformat": 4,
 "nbformat_minor": 2
}
