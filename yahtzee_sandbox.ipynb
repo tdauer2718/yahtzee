{
 "cells": [
  {
   "cell_type": "code",
   "execution_count": 33,
   "metadata": {},
   "outputs": [],
   "source": [
    "from collections import defaultdict\n",
    "from dataclasses import dataclass\n",
    "from enum import Enum\n",
    "from typing import Dict, List, Optional, Set, Tuple"
   ]
  },
  {
   "cell_type": "code",
   "execution_count": 38,
   "metadata": {},
   "outputs": [],
   "source": [
    "class Box(Enum):\n",
    "    Ones = \"ones\"\n",
    "    Twos = \"twos\"\n",
    "    Threes = \"threes\"\n",
    "    Fours = \"fours\"\n",
    "    Fives = \"fives\"\n",
    "    Sixes = \"sixes\"\n",
    "    ThreeOfAKind = \"three_of_a_kind\"\n",
    "    FourOfAKind = \"four_of_a_kind\"\n",
    "    FullHouse = \"full_house\"\n",
    "    SmallStraight = \"small_straight\"\n",
    "    LargeStraight = \"large_straight\"\n",
    "    Yahtzee = \"yahtzee\"\n",
    "    Chance = \"chance\""
   ]
  },
  {
   "cell_type": "code",
   "execution_count": 23,
   "metadata": {},
   "outputs": [],
   "source": [
    "class Die:\n",
    "    def __init__(self, value: int):\n",
    "        if value in range(1, 7):\n",
    "            self.value = value\n",
    "        else:\n",
    "            raise ValueError(\"Value must be an integer from 1 to 6.\")\n",
    "    \n",
    "    def __repr__(self):\n",
    "        return f\"Value = {self.value}\""
   ]
  },
  {
   "cell_type": "code",
   "execution_count": 31,
   "metadata": {},
   "outputs": [],
   "source": [
    "class Roll:\n",
    "    def __init__(self, *values):\n",
    "        self.values = values\n",
    "        self.dice = [Die(v) for v in values]\n",
    "    \n",
    "    def __repr__(self):\n",
    "        return f\"Values = {', '.join([str(d.value) for d in self.dice])}\"\n",
    "    \n",
    "    @property\n",
    "    def value_counts(self):\n",
    "        result = defaultdict(int)\n",
    "        for v in self.values:\n",
    "            result[v] += 1\n",
    "        return result\n",
    "    \n",
    "    def is_three_of_a_kind(self) -> bool:\n",
    "        return any([v == 3 for v in self.value_counts.values()])\n",
    "    \n",
    "    def is_four_of_a_kind(self) -> bool:\n",
    "        return any([v == 4 for v in self.value_counts.values()])\n",
    "    \n",
    "    def is_full_house(self) -> bool:\n",
    "        return self.is_three_of_a_kind() and any([v == 2 for v in self.value_counts.values()])\n",
    "    \n",
    "    def is_large_straight(self) -> bool:\n",
    "        return tuple(sorted(set(self.values))) in {(1, 2, 3, 4, 5), (2, 3, 4, 5, 6)}\n",
    "    \n",
    "    def is_small_straight(self) -> bool:\n",
    "        return self.is_large_straight() or tuple(sorted(set(self.values))) in {(1, 2, 3, 4, 6), (1, 3, 4, 5, 6)}\n",
    "    \n",
    "    def is_yahtzee(self) -> bool:\n",
    "        return len(set(self.values)) == 1\n",
    "    "
   ]
  },
  {
   "cell_type": "code",
   "execution_count": 25,
   "metadata": {},
   "outputs": [],
   "source": [
    "@dataclass\n",
    "class ScoreCard:\n",
    "    ones: Optional[int] = None\n",
    "    twos: Optional[int] = None\n",
    "    threes: Optional[int] = None\n",
    "    fours: Optional[int] = None\n",
    "    fives: Optional[int] = None\n",
    "    sixes: Optional[int] = None\n",
    "\n",
    "    three_of_a_kind: Optional[int] = None\n",
    "    four_of_a_kind: Optional[int] = None\n",
    "    full_house: Optional[int] = None\n",
    "    small_straight: Optional[int] = None\n",
    "    large_straight: Optional[int] = None\n",
    "    yahtzee: Optional[int] = None\n",
    "    chance: Optional[int] = None\n",
    "\n",
    "    @property\n",
    "    def top_scores_dict(self) -> Dict[str, Optional[int]]:\n",
    "        return {\"ones\": self.ones, \"twos\": self.twos, \"threes\": self.threes, \"fours\": self.fours, \"fives\": self.fives, \"sixes\": self.sixes}\n",
    "    \n",
    "    @property\n",
    "    def bottom_scores_dict(self) -> Dict[str, Optional[int]]:\n",
    "        return {\"three_of_a_kind\": self.three_of_a_kind, \"four_of_a_kind\": self.four_of_a_kind, \"full_house\": self.full_house, \"small_straight\": self.small_straight, \"large_straight\": self.large_straight, \"yahtzee\": self.yahtzee, \"chance\": self.chance}\n",
    "\n",
    "    @property\n",
    "    def all_scores_dict(self) -> Dict[str, Optional[int]]:\n",
    "        return {**self.top_scores_dict, **self.bottom_scores_dict}\n",
    "    \n",
    "    @property\n",
    "    def top_score(self) -> int:\n",
    "        partial_sum = sum([s if s is not None else 0 for s in self.top_scores_dict.values()])\n",
    "        return partial_sum + 35 if partial_sum >= 63 else partial_sum\n",
    "    \n",
    "    @property\n",
    "    def bottom_score(self) -> int:\n",
    "        return sum([s if s is not None else 0 for s in self.bottom_scores_dict.values()])\n",
    "    \n",
    "    @property \n",
    "    def score(self) -> int:\n",
    "        return self.top_score + self.bottom_score\n",
    "    \n",
    "    @property\n",
    "    def game_finished(self) -> bool:\n",
    "        return all(self.all_scores_dict.values())"
   ]
  },
  {
   "cell_type": "code",
   "execution_count": 41,
   "metadata": {},
   "outputs": [],
   "source": [
    "@dataclass(frozen=True)\n",
    "class RollAction:\n",
    "    dice_positions_to_keep: Set[int]\n",
    "\n",
    "@dataclass(frozen=True)\n",
    "class ScoreAction:\n",
    "    score: int\n",
    "    dice_positions: Set[int]\n",
    "    box: Box"
   ]
  },
  {
   "cell_type": "code",
   "execution_count": 43,
   "metadata": {},
   "outputs": [],
   "source": [
    "class GameState:\n",
    "    def __init__(self, scorecard: ScoreCard, roll: Roll, rolls_completed: int):\n",
    "        if rolls_completed not in {1, 2, 3}:\n",
    "            raise ValueError(\"`rolls_completed` must be 1, 2, or 3\")\n",
    "        self.scorecard = scorecard\n",
    "        self.roll = roll\n",
    "        self.rolls_completed = rolls_completed\n",
    "\n",
    "    @property\n",
    "    def possible_scores(self) -> Set[ScoreAction]:\n",
    "        \"\"\"\n",
    "        Takes scorecard and roll and returns all possible scores for the roll.\n",
    "        Also returns the positions of the dice and the box (on the scorecard) \n",
    "        that give that score.\n",
    "        \"\"\"\n",
    "        # maybe structure this as a DataFrame?\n",
    "        return {ScoreAction(18, {1, 2, 3}, Box.Sixes)}  # placeholder until real implementation\n",
    "    \n",
    "    @property\n",
    "    def possible_actions(self):\n",
    "        \"\"\"\n",
    "        Takes scorecard and roll_number and returns the possible actions.\n",
    "        \"\"\""
   ]
  },
  {
   "cell_type": "code",
   "execution_count": 30,
   "metadata": {},
   "outputs": [
    {
     "data": {
      "text/plain": [
       "Values = 1, 2, 3, 4, 5"
      ]
     },
     "execution_count": 30,
     "metadata": {},
     "output_type": "execute_result"
    }
   ],
   "source": [
    "Roll(1, 2, 3, 4, 5)"
   ]
  },
  {
   "cell_type": "markdown",
   "metadata": {},
   "source": [
    "A state in the game consists of a `ScoreCard`, `Roll`, and the `roll_number` from 1 to 3 within the turn. The `ScoreCard` contains all information from the previous turns. The `Roll` just contains the values of the five dice that have been rolled at a given point.\n",
    "\n",
    "I need to write a function that takes a `Scorecard` and a `Roll` and returns the possible scores for the `Roll` (given what's already been marked on the `ScoreCard`).\n",
    "\n",
    "I also need to write a function that returns the possible actions given a `Roll` and a `roll_number`. One of these actions is \"score\", which a player can do given any `Roll` and `roll_number`, and is required to do if the `roll_number` is 3. Actually \"score\" normally allows one of several actions, given by the outputs of the scoring function described above. The other actions involve leaving some number of the five dice on the table, so the others can be re-rolled if the turn is not over. These last actions are easy to encode: I can just write them as a subset of $\\{1, 2, 3, 4, 5\\}$, denoting the positions of dice to leave alone; there are 31 possibilities (choosing the empty set means some \"score\" action is chosen instead of re-rolling).\n",
    "\n",
    "Finally, I need to write code that actually plays the game by executing the rolls sequentially and calculates scores given the player's actions; i.e., I need to write the reward function."
   ]
  },
  {
   "cell_type": "code",
   "execution_count": 10,
   "metadata": {},
   "outputs": [],
   "source": [
    "scorecard = ScoreCard()"
   ]
  },
  {
   "cell_type": "code",
   "execution_count": 11,
   "metadata": {},
   "outputs": [
    {
     "data": {
      "text/plain": [
       "False"
      ]
     },
     "execution_count": 11,
     "metadata": {},
     "output_type": "execute_result"
    }
   ],
   "source": [
    "scorecard.game_finished"
   ]
  },
  {
   "cell_type": "code",
   "execution_count": null,
   "metadata": {},
   "outputs": [],
   "source": []
  }
 ],
 "metadata": {
  "kernelspec": {
   "display_name": "NN",
   "language": "python",
   "name": "python3"
  },
  "language_info": {
   "codemirror_mode": {
    "name": "ipython",
    "version": 3
   },
   "file_extension": ".py",
   "mimetype": "text/x-python",
   "name": "python",
   "nbconvert_exporter": "python",
   "pygments_lexer": "ipython3",
   "version": "3.11.5"
  }
 },
 "nbformat": 4,
 "nbformat_minor": 2
}
