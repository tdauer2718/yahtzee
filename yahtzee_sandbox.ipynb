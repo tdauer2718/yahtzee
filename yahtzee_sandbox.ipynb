{
 "cells": [
  {
   "cell_type": "code",
   "execution_count": 1,
   "metadata": {},
   "outputs": [
    {
     "name": "stdout",
     "output_type": "stream",
     "text": [
      "Intel MKL WARNING: Support of Intel(R) Streaming SIMD Extensions 4.2 (Intel(R) SSE4.2) enabled only processors has been deprecated. Intel oneAPI Math Kernel Library 2025.0 will require Intel(R) Advanced Vector Extensions (Intel(R) AVX) instructions.\n",
      "Intel MKL WARNING: Support of Intel(R) Streaming SIMD Extensions 4.2 (Intel(R) SSE4.2) enabled only processors has been deprecated. Intel oneAPI Math Kernel Library 2025.0 will require Intel(R) Advanced Vector Extensions (Intel(R) AVX) instructions.\n"
     ]
    }
   ],
   "source": [
    "from abc import ABC, abstractmethod\n",
    "from collections import Counter, defaultdict\n",
    "from dataclasses import dataclass\n",
    "from enum import Enum\n",
    "import functools\n",
    "import itertools\n",
    "import matplotlib.pyplot as plt\n",
    "import math\n",
    "import numpy as np\n",
    "import pandas as pd\n",
    "import random\n",
    "from sklearn.preprocessing import OneHotEncoder\n",
    "import torch\n",
    "from typing import Dict, List, Optional, Set, Tuple, Union"
   ]
  },
  {
   "cell_type": "code",
   "execution_count": 2,
   "metadata": {},
   "outputs": [],
   "source": [
    "from basic_utils import (\n",
    "    ALL_ROLL_TUPLES,\n",
    "    Box,\n",
    "    BoxCategories,\n",
    "    BOX_ENUMERATION,\n",
    "    RollAction,\n",
    "    RollValues,\n",
    "    ScoreAction,\n",
    "    ScoreCard,\n",
    "    roll_first,\n",
    "    remove_dice,\n",
    "    roll_again,\n",
    "    GameState,\n",
    "    ROLL_TUPLES_BY_BOX,\n",
    ")\n",
    "from agents import Agent, EpsilonGreedyAgent, GreedyAgent, RandomAgent, GreedyExpectedScoresAgent, GreedyExpectedScoresAgentUpperBoxWeighted\n",
    "from expected_score_utils import (\n",
    "    all_expected_scores_table_by_box,\n",
    "    best_action_by_box_with_score_as_table,\n",
    "    best_expected_scores_table_by_box,\n",
    "    best_roll_action_for_box_with_score,\n",
    "    best_action_by_box_with_score,\n",
    "    create_expected_scores_table_one_roll,\n",
    "    create_expected_scores_table_two_rolls,\n",
    "    greedy_best_action,\n",
    "    hit_probability_from_action,\n",
    "    create_expected_scores_table_two_rolls,\n",
    ")"
   ]
  },
  {
   "cell_type": "code",
   "execution_count": 20,
   "metadata": {},
   "outputs": [
    {
     "data": {
      "text/html": [
       "<div>\n",
       "<style scoped>\n",
       "    .dataframe tbody tr th:only-of-type {\n",
       "        vertical-align: middle;\n",
       "    }\n",
       "\n",
       "    .dataframe tbody tr th {\n",
       "        vertical-align: top;\n",
       "    }\n",
       "\n",
       "    .dataframe thead th {\n",
       "        text-align: right;\n",
       "    }\n",
       "</style>\n",
       "<table border=\"1\" class=\"dataframe\">\n",
       "  <thead>\n",
       "    <tr style=\"text-align: right;\">\n",
       "      <th></th>\n",
       "      <th>Box</th>\n",
       "      <th>Hit Probability</th>\n",
       "      <th>Expected Score</th>\n",
       "      <th>Action Type</th>\n",
       "      <th>Dice Values</th>\n",
       "    </tr>\n",
       "  </thead>\n",
       "  <tbody>\n",
       "    <tr>\n",
       "      <th>0</th>\n",
       "      <td>Chance</td>\n",
       "      <td>&lt;NA&gt;</td>\n",
       "      <td>21.2</td>\n",
       "      <td>Re-Roll</td>\n",
       "      <td>(1, 2, 2, 3, 3)</td>\n",
       "    </tr>\n",
       "    <tr>\n",
       "      <th>1</th>\n",
       "      <td>SmallStraight</td>\n",
       "      <td>0.518</td>\n",
       "      <td>15.5</td>\n",
       "      <td>Re-Roll</td>\n",
       "      <td>(2, 3)</td>\n",
       "    </tr>\n",
       "    <tr>\n",
       "      <th>2</th>\n",
       "      <td>FullHouse</td>\n",
       "      <td>0.556</td>\n",
       "      <td>13.9</td>\n",
       "      <td>Re-Roll</td>\n",
       "      <td>(1,)</td>\n",
       "    </tr>\n",
       "    <tr>\n",
       "      <th>3</th>\n",
       "      <td>ThreeOfAKind</td>\n",
       "      <td>0.691</td>\n",
       "      <td>12.2</td>\n",
       "      <td>Re-Roll</td>\n",
       "      <td>(1, 2, 2)</td>\n",
       "    </tr>\n",
       "    <tr>\n",
       "      <th>4</th>\n",
       "      <td>Sixes</td>\n",
       "      <td>&lt;NA&gt;</td>\n",
       "      <td>9.2</td>\n",
       "      <td>Re-Roll</td>\n",
       "      <td>(1, 2, 2, 3, 3)</td>\n",
       "    </tr>\n",
       "    <tr>\n",
       "      <th>5</th>\n",
       "      <td>Threes</td>\n",
       "      <td>&lt;NA&gt;</td>\n",
       "      <td>8.7</td>\n",
       "      <td>Re-Roll</td>\n",
       "      <td>(1, 2, 2)</td>\n",
       "    </tr>\n",
       "    <tr>\n",
       "      <th>6</th>\n",
       "      <td>Fives</td>\n",
       "      <td>&lt;NA&gt;</td>\n",
       "      <td>7.6</td>\n",
       "      <td>Re-Roll</td>\n",
       "      <td>(1, 2, 2, 3, 3)</td>\n",
       "    </tr>\n",
       "    <tr>\n",
       "      <th>7</th>\n",
       "      <td>LargeStraight</td>\n",
       "      <td>0.184</td>\n",
       "      <td>7.4</td>\n",
       "      <td>Re-Roll</td>\n",
       "      <td>(1, 2, 3)</td>\n",
       "    </tr>\n",
       "    <tr>\n",
       "      <th>8</th>\n",
       "      <td>Fours</td>\n",
       "      <td>&lt;NA&gt;</td>\n",
       "      <td>6.1</td>\n",
       "      <td>Re-Roll</td>\n",
       "      <td>(1, 2, 2, 3, 3)</td>\n",
       "    </tr>\n",
       "    <tr>\n",
       "      <th>9</th>\n",
       "      <td>Twos</td>\n",
       "      <td>&lt;NA&gt;</td>\n",
       "      <td>5.8</td>\n",
       "      <td>Re-Roll</td>\n",
       "      <td>(1, 3, 3)</td>\n",
       "    </tr>\n",
       "    <tr>\n",
       "      <th>10</th>\n",
       "      <td>FourOfAKind</td>\n",
       "      <td>0.228</td>\n",
       "      <td>3.7</td>\n",
       "      <td>Re-Roll</td>\n",
       "      <td>(1, 2, 2)</td>\n",
       "    </tr>\n",
       "    <tr>\n",
       "      <th>11</th>\n",
       "      <td>Ones</td>\n",
       "      <td>&lt;NA&gt;</td>\n",
       "      <td>2.2</td>\n",
       "      <td>Re-Roll</td>\n",
       "      <td>(2, 2, 3, 3)</td>\n",
       "    </tr>\n",
       "    <tr>\n",
       "      <th>12</th>\n",
       "      <td>Yahtzee</td>\n",
       "      <td>0.029</td>\n",
       "      <td>1.5</td>\n",
       "      <td>Re-Roll</td>\n",
       "      <td>(1, 2, 2)</td>\n",
       "    </tr>\n",
       "  </tbody>\n",
       "</table>\n",
       "</div>"
      ],
      "text/plain": [
       "              Box Hit Probability  Expected Score Action Type      Dice Values\n",
       "0          Chance            <NA>            21.2     Re-Roll  (1, 2, 2, 3, 3)\n",
       "1   SmallStraight           0.518            15.5     Re-Roll           (2, 3)\n",
       "2       FullHouse           0.556            13.9     Re-Roll             (1,)\n",
       "3    ThreeOfAKind           0.691            12.2     Re-Roll        (1, 2, 2)\n",
       "4           Sixes            <NA>             9.2     Re-Roll  (1, 2, 2, 3, 3)\n",
       "5          Threes            <NA>             8.7     Re-Roll        (1, 2, 2)\n",
       "6           Fives            <NA>             7.6     Re-Roll  (1, 2, 2, 3, 3)\n",
       "7   LargeStraight           0.184             7.4     Re-Roll        (1, 2, 3)\n",
       "8           Fours            <NA>             6.1     Re-Roll  (1, 2, 2, 3, 3)\n",
       "9            Twos            <NA>             5.8     Re-Roll        (1, 3, 3)\n",
       "10    FourOfAKind           0.228             3.7     Re-Roll        (1, 2, 2)\n",
       "11           Ones            <NA>             2.2     Re-Roll     (2, 2, 3, 3)\n",
       "12        Yahtzee           0.029             1.5     Re-Roll        (1, 2, 2)"
      ]
     },
     "execution_count": 20,
     "metadata": {},
     "output_type": "execute_result"
    }
   ],
   "source": [
    "best_action_by_box_with_score_as_table(RollValues(1, 2, 2, 3, 3), allowed_boxes=Box, n_rolls_left=2)"
   ]
  },
  {
   "cell_type": "code",
   "execution_count": 18,
   "metadata": {},
   "outputs": [
    {
     "data": {
      "text/html": [
       "<div>\n",
       "<style scoped>\n",
       "    .dataframe tbody tr th:only-of-type {\n",
       "        vertical-align: middle;\n",
       "    }\n",
       "\n",
       "    .dataframe tbody tr th {\n",
       "        vertical-align: top;\n",
       "    }\n",
       "\n",
       "    .dataframe thead th {\n",
       "        text-align: right;\n",
       "    }\n",
       "</style>\n",
       "<table border=\"1\" class=\"dataframe\">\n",
       "  <thead>\n",
       "    <tr style=\"text-align: right;\">\n",
       "      <th></th>\n",
       "      <th>Box</th>\n",
       "      <th>Hit Probability</th>\n",
       "      <th>Expected Score</th>\n",
       "      <th>Action Type</th>\n",
       "      <th>Dice Values</th>\n",
       "    </tr>\n",
       "  </thead>\n",
       "  <tbody>\n",
       "    <tr>\n",
       "      <th>0</th>\n",
       "      <td>Chance</td>\n",
       "      <td>&lt;NA&gt;</td>\n",
       "      <td>18.5</td>\n",
       "      <td>Re-Roll</td>\n",
       "      <td>(2, 3, 3)</td>\n",
       "    </tr>\n",
       "    <tr>\n",
       "      <th>1</th>\n",
       "      <td>SmallStraight</td>\n",
       "      <td>0.556</td>\n",
       "      <td>16.7</td>\n",
       "      <td>Re-Roll</td>\n",
       "      <td>(3, 4)</td>\n",
       "    </tr>\n",
       "    <tr>\n",
       "      <th>2</th>\n",
       "      <td>Fours</td>\n",
       "      <td>&lt;NA&gt;</td>\n",
       "      <td>10.0</td>\n",
       "      <td>Re-Roll</td>\n",
       "      <td>(2, 3, 3)</td>\n",
       "    </tr>\n",
       "    <tr>\n",
       "      <th>3</th>\n",
       "      <td>ThreeOfAKind</td>\n",
       "      <td>0.444</td>\n",
       "      <td>8.4</td>\n",
       "      <td>Re-Roll</td>\n",
       "      <td>(2, 3, 3)</td>\n",
       "    </tr>\n",
       "    <tr>\n",
       "      <th>4</th>\n",
       "      <td>FullHouse</td>\n",
       "      <td>0.333</td>\n",
       "      <td>8.3</td>\n",
       "      <td>Re-Roll</td>\n",
       "      <td>(2,)</td>\n",
       "    </tr>\n",
       "    <tr>\n",
       "      <th>5</th>\n",
       "      <td>Threes</td>\n",
       "      <td>&lt;NA&gt;</td>\n",
       "      <td>7.5</td>\n",
       "      <td>Re-Roll</td>\n",
       "      <td>(2, 4, 4)</td>\n",
       "    </tr>\n",
       "    <tr>\n",
       "      <th>6</th>\n",
       "      <td>Sixes</td>\n",
       "      <td>&lt;NA&gt;</td>\n",
       "      <td>5.0</td>\n",
       "      <td>Re-Roll</td>\n",
       "      <td>(2, 3, 3, 4, 4)</td>\n",
       "    </tr>\n",
       "    <tr>\n",
       "      <th>7</th>\n",
       "      <td>LargeStraight</td>\n",
       "      <td>0.111</td>\n",
       "      <td>4.4</td>\n",
       "      <td>Re-Roll</td>\n",
       "      <td>(3, 4)</td>\n",
       "    </tr>\n",
       "    <tr>\n",
       "      <th>8</th>\n",
       "      <td>Fives</td>\n",
       "      <td>&lt;NA&gt;</td>\n",
       "      <td>4.2</td>\n",
       "      <td>Re-Roll</td>\n",
       "      <td>(2, 3, 3, 4, 4)</td>\n",
       "    </tr>\n",
       "    <tr>\n",
       "      <th>9</th>\n",
       "      <td>Twos</td>\n",
       "      <td>&lt;NA&gt;</td>\n",
       "      <td>3.3</td>\n",
       "      <td>Re-Roll</td>\n",
       "      <td>(3, 3, 4, 4)</td>\n",
       "    </tr>\n",
       "    <tr>\n",
       "      <th>10</th>\n",
       "      <td>FourOfAKind</td>\n",
       "      <td>0.074</td>\n",
       "      <td>1.4</td>\n",
       "      <td>Re-Roll</td>\n",
       "      <td>(2, 3, 3)</td>\n",
       "    </tr>\n",
       "    <tr>\n",
       "      <th>11</th>\n",
       "      <td>Ones</td>\n",
       "      <td>&lt;NA&gt;</td>\n",
       "      <td>0.8</td>\n",
       "      <td>Re-Roll</td>\n",
       "      <td>(2, 3, 3, 4, 4)</td>\n",
       "    </tr>\n",
       "    <tr>\n",
       "      <th>12</th>\n",
       "      <td>Yahtzee</td>\n",
       "      <td>0.005</td>\n",
       "      <td>0.2</td>\n",
       "      <td>Re-Roll</td>\n",
       "      <td>(2, 3, 3)</td>\n",
       "    </tr>\n",
       "  </tbody>\n",
       "</table>\n",
       "</div>"
      ],
      "text/plain": [
       "              Box Hit Probability  Expected Score Action Type      Dice Values\n",
       "0          Chance            <NA>            18.5     Re-Roll        (2, 3, 3)\n",
       "1   SmallStraight           0.556            16.7     Re-Roll           (3, 4)\n",
       "2           Fours            <NA>            10.0     Re-Roll        (2, 3, 3)\n",
       "3    ThreeOfAKind           0.444             8.4     Re-Roll        (2, 3, 3)\n",
       "4       FullHouse           0.333             8.3     Re-Roll             (2,)\n",
       "5          Threes            <NA>             7.5     Re-Roll        (2, 4, 4)\n",
       "6           Sixes            <NA>             5.0     Re-Roll  (2, 3, 3, 4, 4)\n",
       "7   LargeStraight           0.111             4.4     Re-Roll           (3, 4)\n",
       "8           Fives            <NA>             4.2     Re-Roll  (2, 3, 3, 4, 4)\n",
       "9            Twos            <NA>             3.3     Re-Roll     (3, 3, 4, 4)\n",
       "10    FourOfAKind           0.074             1.4     Re-Roll        (2, 3, 3)\n",
       "11           Ones            <NA>             0.8     Re-Roll  (2, 3, 3, 4, 4)\n",
       "12        Yahtzee           0.005             0.2     Re-Roll        (2, 3, 3)"
      ]
     },
     "execution_count": 18,
     "metadata": {},
     "output_type": "execute_result"
    }
   ],
   "source": [
    "best_action_by_box_with_score_as_table(RollValues(2, 3, 3, 4, 4), allowed_boxes=Box, n_rolls_left=1)"
   ]
  },
  {
   "cell_type": "code",
   "execution_count": null,
   "metadata": {},
   "outputs": [
    {
     "data": {
      "text/html": [
       "<div>\n",
       "<style scoped>\n",
       "    .dataframe tbody tr th:only-of-type {\n",
       "        vertical-align: middle;\n",
       "    }\n",
       "\n",
       "    .dataframe tbody tr th {\n",
       "        vertical-align: top;\n",
       "    }\n",
       "\n",
       "    .dataframe thead th {\n",
       "        text-align: right;\n",
       "    }\n",
       "</style>\n",
       "<table border=\"1\" class=\"dataframe\">\n",
       "  <thead>\n",
       "    <tr style=\"text-align: right;\">\n",
       "      <th></th>\n",
       "      <th>Box</th>\n",
       "      <th>Action Type</th>\n",
       "      <th>Expected Score</th>\n",
       "      <th>Dice Values</th>\n",
       "    </tr>\n",
       "  </thead>\n",
       "  <tbody>\n",
       "    <tr>\n",
       "      <th>0</th>\n",
       "      <td>FullHouse</td>\n",
       "      <td>Score</td>\n",
       "      <td>25.0</td>\n",
       "      <td>(1, 1, 1, 4, 4)</td>\n",
       "    </tr>\n",
       "    <tr>\n",
       "      <th>1</th>\n",
       "      <td>Chance</td>\n",
       "      <td>Re-Roll</td>\n",
       "      <td>18.5</td>\n",
       "      <td>(1, 1, 1)</td>\n",
       "    </tr>\n",
       "    <tr>\n",
       "      <th>2</th>\n",
       "      <td>Fours</td>\n",
       "      <td>Re-Roll</td>\n",
       "      <td>10.0</td>\n",
       "      <td>(1, 1, 1)</td>\n",
       "    </tr>\n",
       "    <tr>\n",
       "      <th>3</th>\n",
       "      <td>SmallStraight</td>\n",
       "      <td>Re-Roll</td>\n",
       "      <td>6.4</td>\n",
       "      <td>(1, 1, 1, 4)</td>\n",
       "    </tr>\n",
       "    <tr>\n",
       "      <th>4</th>\n",
       "      <td>ThreeOfAKind</td>\n",
       "      <td>Re-Roll</td>\n",
       "      <td>5.6</td>\n",
       "      <td>(1, 1, 1)</td>\n",
       "    </tr>\n",
       "    <tr>\n",
       "      <th>5</th>\n",
       "      <td>Sixes</td>\n",
       "      <td>Re-Roll</td>\n",
       "      <td>5.0</td>\n",
       "      <td>(1, 1, 1, 4, 4)</td>\n",
       "    </tr>\n",
       "    <tr>\n",
       "      <th>6</th>\n",
       "      <td>Fives</td>\n",
       "      <td>Re-Roll</td>\n",
       "      <td>4.2</td>\n",
       "      <td>(1, 1, 1, 4, 4)</td>\n",
       "    </tr>\n",
       "    <tr>\n",
       "      <th>7</th>\n",
       "      <td>Ones</td>\n",
       "      <td>Re-Roll</td>\n",
       "      <td>3.3</td>\n",
       "      <td>(4, 4)</td>\n",
       "    </tr>\n",
       "    <tr>\n",
       "      <th>8</th>\n",
       "      <td>Threes</td>\n",
       "      <td>Re-Roll</td>\n",
       "      <td>2.5</td>\n",
       "      <td>(1, 1, 1, 4, 4)</td>\n",
       "    </tr>\n",
       "    <tr>\n",
       "      <th>9</th>\n",
       "      <td>Twos</td>\n",
       "      <td>Re-Roll</td>\n",
       "      <td>1.7</td>\n",
       "      <td>(1, 1, 1, 4, 4)</td>\n",
       "    </tr>\n",
       "    <tr>\n",
       "      <th>10</th>\n",
       "      <td>LargeStraight</td>\n",
       "      <td>Re-Roll</td>\n",
       "      <td>1.5</td>\n",
       "      <td>(1, 1, 1, 4)</td>\n",
       "    </tr>\n",
       "    <tr>\n",
       "      <th>11</th>\n",
       "      <td>Yahtzee</td>\n",
       "      <td>Re-Roll</td>\n",
       "      <td>1.4</td>\n",
       "      <td>(4, 4)</td>\n",
       "    </tr>\n",
       "    <tr>\n",
       "      <th>12</th>\n",
       "      <td>FourOfAKind</td>\n",
       "      <td>Re-Roll</td>\n",
       "      <td>1.2</td>\n",
       "      <td>(4, 4)</td>\n",
       "    </tr>\n",
       "  </tbody>\n",
       "</table>\n",
       "</div>"
      ],
      "text/plain": [
       "              Box Action Type  Expected Score      Dice Values\n",
       "0       FullHouse       Score            25.0  (1, 1, 1, 4, 4)\n",
       "1          Chance     Re-Roll            18.5        (1, 1, 1)\n",
       "2           Fours     Re-Roll            10.0        (1, 1, 1)\n",
       "3   SmallStraight     Re-Roll             6.4     (1, 1, 1, 4)\n",
       "4    ThreeOfAKind     Re-Roll             5.6        (1, 1, 1)\n",
       "5           Sixes     Re-Roll             5.0  (1, 1, 1, 4, 4)\n",
       "6           Fives     Re-Roll             4.2  (1, 1, 1, 4, 4)\n",
       "7            Ones     Re-Roll             3.3           (4, 4)\n",
       "8          Threes     Re-Roll             2.5  (1, 1, 1, 4, 4)\n",
       "9            Twos     Re-Roll             1.7  (1, 1, 1, 4, 4)\n",
       "10  LargeStraight     Re-Roll             1.5     (1, 1, 1, 4)\n",
       "11        Yahtzee     Re-Roll             1.4           (4, 4)\n",
       "12    FourOfAKind     Re-Roll             1.2           (4, 4)"
      ]
     },
     "execution_count": 17,
     "metadata": {},
     "output_type": "execute_result"
    }
   ],
   "source": [
    "pd.DataFrame([\n",
    "    (\n",
    "        elem[0].name,\n",
    "        \"Score\" if isinstance(elem[1][0], ScoreAction) else \"Re-Roll\",\n",
    "        np.round(elem[1][1], 1),\n",
    "        elem[1][0].dice_values\n",
    "        if isinstance(elem[1][0], ScoreAction)\n",
    "        else elem[1][0].dice_values_to_roll,\n",
    "    )\n",
    "    for elem in sorted(list(actions.items()), key=lambda x: x[1][1], reverse=True)\n",
    "], columns=[\"Box\", \"Action Type\", \"Expected Score\", \"Dice Values\"])"
   ]
  },
  {
   "cell_type": "code",
   "execution_count": null,
   "metadata": {},
   "outputs": [],
   "source": []
  },
  {
   "cell_type": "code",
   "execution_count": null,
   "metadata": {},
   "outputs": [],
   "source": []
  },
  {
   "cell_type": "code",
   "execution_count": null,
   "metadata": {},
   "outputs": [],
   "source": [
    "best_expected_scores_table_by_box()"
   ]
  },
  {
   "cell_type": "code",
   "execution_count": null,
   "metadata": {},
   "outputs": [],
   "source": []
  },
  {
   "cell_type": "markdown",
   "metadata": {},
   "source": [
    "A state in the game consists of a `ScoreCard` (score card state), `RollValues` (values of dice showing on the table), and `rolls_completed` from 1 to 3 within the turn. The `ScoreCard` contains all needed information from the previous turns. The `RollValues` just contains the values of the five dice that have been rolled at a given point.\n",
    "\n",
    "`GameState` contains all three of these objects. It provides `possible_score_actions`, which gives the scores possible with a given set of dice values and score card state. I frame these as actions because at any time the player can choose to end their turn and score with one of these values. For convenience, they are sorted in descending order by score. `GameState` also provides `possible_actions`, which includes roll actions in addition to the `possible_score_actions`. The `re_roll` method takes dice that are specified by value and rolls again. Finally, `GameState` provides an `update_score` method, which updates the scorecard given a choice of box.\n",
    "\n",
    "The current score can be accessed at any time by calling the `score` method of the `GameState`'s `scorecard`."
   ]
  },
  {
   "cell_type": "code",
   "execution_count": null,
   "metadata": {},
   "outputs": [
    {
     "data": {
      "image/png": "[encoded data removed]",
      "text/plain": [
       "<Figure size 640x480 with 1 Axes>"
      ]
     },
     "metadata": {},
     "output_type": "display_data"
    },
    {
     "name": "stdout",
     "output_type": "stream",
     "text": [
      "Mean score = 207\n",
      "Standard deviation = 35.4\n",
      "Median score = 202\n"
     ]
    }
   ],
   "source": [
    "greedy_expected_agent_scores = GreedyExpectedScoresAgent(lookahead_rolls=1).play_games(n_games=10_000, histogram_bins=50)"
   ]
  },
  {
   "cell_type": "code",
   "execution_count": null,
   "metadata": {},
   "outputs": [
    {
     "data": {
      "image/png": "[encoded data removed]",
      "text/plain": [
       "<Figure size 640x480 with 1 Axes>"
      ]
     },
     "metadata": {},
     "output_type": "display_data"
    },
    {
     "name": "stdout",
     "output_type": "stream",
     "text": [
      "Mean score = 201\n",
      "Standard deviation = 33.5\n",
      "Median score = 198\n"
     ]
    }
   ],
   "source": [
    "greedy_expected_agent_scores_2_roll_lookahead = GreedyExpectedScoresAgent(lookahead_rolls=2).play_games(n_games=10_000, histogram_bins=50)"
   ]
  },
  {
   "cell_type": "code",
   "execution_count": null,
   "metadata": {},
   "outputs": [
    {
     "data": {
      "text/plain": [
       "0.0981"
      ]
     },
     "execution_count": 7,
     "metadata": {},
     "output_type": "execute_result"
    }
   ],
   "source": [
    "len([i for i in greedy_expected_agent_scores_2_roll_lookahead if i > 250]) / 10_000"
   ]
  },
  {
   "cell_type": "code",
   "execution_count": null,
   "metadata": {},
   "outputs": [],
   "source": [
    "game_state = GameState()\n",
    "game_state.start_turn()"
   ]
  },
  {
   "cell_type": "code",
   "execution_count": null,
   "metadata": {},
   "outputs": [],
   "source": [
    "action = greedy_best_action(game_state.roll_values, game_state.scorecard.unused_boxes, 3 - game_state.rolls_completed)\n",
    "action"
   ]
  },
  {
   "cell_type": "code",
   "execution_count": null,
   "metadata": {},
   "outputs": [],
   "source": [
    "game_state.take_action(action)"
   ]
  },
  {
   "cell_type": "code",
   "execution_count": null,
   "metadata": {},
   "outputs": [],
   "source": [
    "action = greedy_best_action(game_state.roll_values, game_state.scorecard.unused_boxes, 3 - game_state.rolls_completed)\n",
    "action"
   ]
  },
  {
   "cell_type": "code",
   "execution_count": null,
   "metadata": {},
   "outputs": [],
   "source": [
    "game_state.take_action(action)"
   ]
  },
  {
   "cell_type": "code",
   "execution_count": null,
   "metadata": {},
   "outputs": [],
   "source": [
    "action = greedy_best_action(game_state.roll_values, game_state.scorecard.unused_boxes, 3 - game_state.rolls_completed)\n",
    "action"
   ]
  },
  {
   "cell_type": "code",
   "execution_count": null,
   "metadata": {},
   "outputs": [],
   "source": [
    "class YahtzeeDeepDoubleQ(Agent):\n",
    "    \"\"\"\n",
    "    Using the MarioAgent here as a template:\n",
    "    https://pytorch.org/tutorials/intermediate/mario_rl_tutorial.html\n",
    "    \"\"\"\n",
    "    def __init__(self, state_dim, action_dim, save_dir, narrate: bool = False):\n",
    "        super().__init__(narrate=narrate)\n",
    "        self.state_dim = state_dim\n",
    "        self.action_dim = action_dim\n",
    "        self.save_dir = save_dir\n",
    "\n",
    "        self.device = \"cuda\" if torch.cuda.is_available() else \"cpu\"\n",
    "\n",
    "        # DNN to predict the most optimal action - we implement this in the Learn section\n",
    "        self.net = YahtzeeNet(self.state_dim, self.action_dim).float()\n",
    "        self.net = self.net.to(device=self.device)\n",
    "\n",
    "        self.exploration_rate = 1\n",
    "        self.exploration_rate_decay = 0.99999975\n",
    "        self.exploration_rate_min = 0.1\n",
    "        self.curr_step = 0\n",
    "\n",
    "        self.save_every = 5e5  # no. of experiences between saving YahtzeeNet\n",
    "\n",
    "    def choose_action(self, game_state: GameState):\n",
    "        \"\"\"\n",
    "        Given a state, choose an epsilon-greedy action and update value of step.\n",
    "\n",
    "        Inputs:\n",
    "        state(``LazyFrame``): A single observation of the current state, dimension is (state_dim)\n",
    "        Outputs:\n",
    "        ``action_idx`` (``int``): An integer representing which action Mario will perform\n",
    "        \"\"\"\n",
    "        # EXPLORE\n",
    "        if np.random.rand() < self.exploration_rate:\n",
    "            action_idx = np.random.randint(self.action_dim)\n",
    "\n",
    "        # EXPLOIT\n",
    "        else:\n",
    "            state = game_state.to_array()\n",
    "            state = torch.tensor(state, device=self.device).unsqueeze(0)\n",
    "            action_values = self.net(state, model=\"online\")\n",
    "            action_idx = torch.argmax(action_values, axis=1).item()\n",
    "\n",
    "        # decrease exploration_rate\n",
    "        self.exploration_rate *= self.exploration_rate_decay\n",
    "        self.exploration_rate = max(self.exploration_rate_min, self.exploration_rate)\n",
    "\n",
    "        # increment step\n",
    "        self.curr_step += 1\n",
    "        return action_idx\n",
    "\n",
    "    def cache(self, experience):\n",
    "        \"\"\"Add the experience to memory\"\"\"\n",
    "        pass\n",
    "\n",
    "    def recall(self):\n",
    "        \"\"\"Sample experiences from memory\"\"\"\n",
    "        pass\n",
    "\n",
    "    def learn(self):\n",
    "        \"\"\"Update online action value (Q) function with a batch of experiences\"\"\"\n",
    "        pass"
   ]
  },
  {
   "cell_type": "code",
   "execution_count": null,
   "metadata": {},
   "outputs": [],
   "source": [
    "@functools.lru_cache\n",
    "def action_representation_dict() -> Dict[Union[Tuple, Box], np.ndarray]:\n",
    "    result = {}\n",
    "    for roll_action_indices in itertools.product(*[(0, 1) for _ in range(5)]):\n",
    "        if roll_action_indices != tuple([False for _ in range(5)]):\n",
    "            result[roll_action_indices] = np.array(list(roll_action_indices) + [0 for _ in range(13)], dtype=np.uint8)\n",
    "    for box in Box:\n",
    "        result[box] = np.array([0 for _ in range(5)] + list(np.eye(13, 13)[BOX_ENUMERATION[box], :]), dtype=np.uint8)\n",
    "    return result"
   ]
  },
  {
   "cell_type": "code",
   "execution_count": null,
   "metadata": {},
   "outputs": [],
   "source": [
    "roll_values = RollValues(1, 3, 4, 5, 5)\n",
    "roll_action = RollAction(3, 5, 5)"
   ]
  },
  {
   "cell_type": "code",
   "execution_count": null,
   "metadata": {},
   "outputs": [],
   "source": [
    "def reroll_indices(roll_values: RollValues, roll_action: RollAction) -> Tuple[int,...]:\n",
    "    values = list(roll_values.values)\n",
    "    mask = [0 for _ in range(5)]\n",
    "    for v in roll_action.dice_values_to_roll:\n",
    "        i = values.index(v)\n",
    "        mask[i] = 1\n",
    "        values[i] = -1\n",
    "    return tuple(mask)"
   ]
  },
  {
   "cell_type": "code",
   "execution_count": null,
   "metadata": {},
   "outputs": [],
   "source": [
    "def get_action_vector(action: Union[RollAction, ScoreAction], roll_values: Optional[RollValues] = None) -> np.ndarray:\n",
    "    if isinstance(action, RollAction):\n",
    "        if roll_values is None:\n",
    "            raise ValueError(\"If the action is a RollAction, then roll_values must be provided.\")\n",
    "        return action_representation_dict()[reroll_indices(roll_values, action)]\n",
    "    if isinstance(action, ScoreAction):\n",
    "        return action_representation_dict()[action.box]"
   ]
  },
  {
   "cell_type": "code",
   "execution_count": null,
   "metadata": {},
   "outputs": [],
   "source": [
    "def action_from_action_vector(action_vector: np.ndarray, roll_values: Optional[RollValues] = None):\n",
    "    ..."
   ]
  },
  {
   "cell_type": "code",
   "execution_count": null,
   "metadata": {},
   "outputs": [
    {
     "data": {
      "text/plain": [
       "array([1, 0, 1, 1, 0, 0, 0, 0, 0, 0, 0, 0, 0, 0, 0, 0, 0, 0], dtype=uint8)"
      ]
     },
     "execution_count": 75,
     "metadata": {},
     "output_type": "execute_result"
    }
   ],
   "source": [
    "get_action_vector(RollAction(1, 4, 4), RollValues(1, 3, 4, 4, 5))"
   ]
  },
  {
   "cell_type": "code",
   "execution_count": null,
   "metadata": {},
   "outputs": [
    {
     "data": {
      "text/plain": [
       "array([0, 0, 0, 0, 0, 0, 0, 0, 0, 0, 0, 0, 0, 0, 1, 0, 0, 0], dtype=uint8)"
      ]
     },
     "execution_count": 63,
     "metadata": {},
     "output_type": "execute_result"
    }
   ],
   "source": [
    "get_action_vector(ScoreAction(25, (1, 2, 3, 4, 4), Box.SmallStraight))"
   ]
  },
  {
   "cell_type": "markdown",
   "metadata": {},
   "source": [
    "Features to give the agent:\n",
    "- Dice values v1, v2, v3, v4, v5\n",
    "- "
   ]
  },
  {
   "cell_type": "code",
   "execution_count": null,
   "metadata": {},
   "outputs": [],
   "source": [
    "import re"
   ]
  },
  {
   "cell_type": "code",
   "execution_count": null,
   "metadata": {},
   "outputs": [
    {
     "data": {
      "text/plain": [
       "<re.Match object; span=(0, 8), match='500.5 GB'>"
      ]
     },
     "execution_count": 92,
     "metadata": {},
     "output_type": "execute_result"
    }
   ],
   "source": [
    "re.match(r\"\\b([5-9]+|\\d{2,})[0-9]{2,}(\\.[0-9]+)? *(GB|[Gg]igabytes?)\\b\", \"500.5 GB\")"
   ]
  },
  {
   "cell_type": "code",
   "execution_count": null,
   "metadata": {},
   "outputs": [],
   "source": []
  }
 ],
 "metadata": {
  "kernelspec": {
   "display_name": "NN",
   "language": "python",
   "name": "python3"
  },
  "language_info": {
   "codemirror_mode": {
    "name": "ipython",
    "version": 3
   },
   "file_extension": ".py",
   "mimetype": "text/x-python",
   "name": "python",
   "nbconvert_exporter": "python",
   "pygments_lexer": "ipython3",
   "version": "3.11.5"
  }
 },
 "nbformat": 4,
 "nbformat_minor": 2
}
