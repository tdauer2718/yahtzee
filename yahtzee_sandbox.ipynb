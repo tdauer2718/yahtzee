{
 "cells": [
  {
   "cell_type": "code",
   "execution_count": null,
   "metadata": {},
   "outputs": [],
   "source": [
    "from abc import ABC, abstractmethod\n",
    "from collections import Counter, defaultdict\n",
    "from dataclasses import dataclass\n",
    "from enum import Enum\n",
    "import itertools\n",
    "import matplotlib.pyplot as plt\n",
    "import math\n",
    "import numpy as np\n",
    "import pandas as pd\n",
    "import random\n",
    "from typing import Dict, List, Optional, Set, Tuple, Union"
   ]
  },
  {
   "cell_type": "code",
   "execution_count": null,
   "metadata": {},
   "outputs": [],
   "source": [
    "from basic_utils import (\n",
    "    ALL_ROLL_TUPLES,\n",
    "    Box,\n",
    "    BoxCategories,\n",
    "    RollAction,\n",
    "    RollValues,\n",
    "    ScoreCard,\n",
    "    roll_first,\n",
    "    remove_dice,\n",
    "    roll_again,\n",
    "    GameState,\n",
    "    ROLL_TUPLES_BY_BOX,\n",
    ")\n",
    "from agents import Agent, EpsilonGreedyAgent, GreedyAgent, RandomAgent"
   ]
  },
  {
   "cell_type": "markdown",
   "metadata": {},
   "source": [
    "A state in the game consists of a `ScoreCard` (score card state), `RollValues` (values of dice showing on the table), and `rolls_completed` from 1 to 3 within the turn. The `ScoreCard` contains all needed information from the previous turns. The `RollValues` just contains the values of the five dice that have been rolled at a given point.\n",
    "\n",
    "`GameState` contains all three of these objects. It provides `possible_score_actions`, which gives the scores possible with a given set of dice values and score card state. I frame these as actions because at any time the player can choose to end their turn and score with one of these values. For convenience, they are sorted in descending order by score. `GameState` also provides `possible_actions`, which includes roll actions in addition to the `possible_score_actions`. The `re_roll` method takes dice that are specified by value and rolls again. Finally, `GameState` provides an `update_score` method, which updates the scorecard given a choice of box.\n",
    "\n",
    "The current score can be accessed at any time by calling the `score` method of the `GameState`'s `scorecard`."
   ]
  },
  {
   "cell_type": "code",
   "execution_count": null,
   "metadata": {},
   "outputs": [],
   "source": [
    "random_agent_scores = RandomAgent().play_games(n_games=10_000, histogram_bins=20)"
   ]
  },
  {
   "cell_type": "markdown",
   "metadata": {},
   "source": [
    "The mean score for a `RandomAgent` over 10,000 games is less than 50 - that's pretty bad! There is a long tail on the right, with a few scores above 100 being achieved.\n",
    "\n",
    "In this first pass at implementing the gameplay actions and scoring, I focused on development speed and cleanliness of the design. I deliberatly did not spend time optimizing for runtime speed, and it shows here, as it took several minutes to simulate 10,000 one-player games. I still think this is OK for now; I can optimize later once I start training some deep RL agents.\n",
    "\n",
    "Let's try a `GreedyAgent` instead."
   ]
  },
  {
   "cell_type": "code",
   "execution_count": null,
   "metadata": {},
   "outputs": [],
   "source": [
    "greedy_agent_scores = GreedyAgent().play_games(n_games=1000, histogram_bins=20)"
   ]
  },
  {
   "cell_type": "code",
   "execution_count": null,
   "metadata": {},
   "outputs": [],
   "source": [
    "sum([1 for s in greedy_agent_scores if s > 150]) / len(greedy_agent_scores)"
   ]
  },
  {
   "cell_type": "markdown",
   "metadata": {},
   "source": [
    "The `GreedyAgent` does substantially better: it achieves mean score above 100, in about 5% of games it scores better than 150, and in a few games it even gets close to 200. \n",
    "\n",
    "Still, the performance is not great compared to typcial human gameplay. I'm not a terribly skilled player, and my own threshold for a good game is a score around 200.\n",
    "\n",
    "It's pretty clear that a naive $\\epsilon$-greedy agent won't do better. Since dice have no memory, there's no advantage of sometimes taking a `RollAction` instead of the best `ScoreAction`; to do better, we'd have to pick our `RollAction` strategically, not at random. Trying out the naive agent confirms that it's not a better approach:"
   ]
  },
  {
   "cell_type": "code",
   "execution_count": null,
   "metadata": {},
   "outputs": [],
   "source": [
    "epsilon_greedy_agent_scores = EpsilonGreedyAgent(epsilon=0.5).play_games(n_games=1000)"
   ]
  },
  {
   "cell_type": "markdown",
   "metadata": {},
   "source": [
    "Next I'll try to come up with a reasonably good strategy, similar to the one I try to follow when playing in the real world. Roughly speaking, given the five dice values after the first roll I pick an unused box to \"go for\" and then roll the dice that maximize the probability of hitting the box (or scoring as high as possible in the box, for the upper section) on this turn. For now let's set aside the question of how to pick which box to go for, and focus on figuring out which dice to roll to hit the box.\n",
    "\n",
    "Given `roll_values` and `box`, I need to figure out the `roll_action` for that box, which I define as the one that maximizes the expected score *from that box* when `roll_action` is taken. Note that I am not computing the total expected score from the `roll_action` on `roll_values`, just the expected score that comes from the particular box. The idea is that my agent will simply look at the dice and either take a `ScoreAction` or pick a box to \"roll for\". The advantage of this is that it places a smaller limit on the number of possible actions than considering all possible roll actions. However, there may be cases where this is suboptimal: say `roll_action_1` is the best to hit `SmallStraight` and `roll_action_2` is the best to hit `FullHouse`, but there is some other action `roll_action_3` that has higher sum of expected scores for `SmallStraight` and `FullHouse`. I'll neglect such cases for this agent."
   ]
  },
  {
   "cell_type": "markdown",
   "metadata": {},
   "source": [
    "Figuring out the best `RollAction` for a small or large straight is not as straightforward (ha) as for the other categories. Given particular `RollValues` it's usually pretty easy to see what to roll, but the casework here could make the function implementation a bit messy. Instead of attempting to write out all the cases, I just precomputed a map from the roll values to the best roll action to take."
   ]
  },
  {
   "cell_type": "code",
   "execution_count": null,
   "metadata": {},
   "outputs": [],
   "source": [
    "df_small_straight = pd.read_csv(f\"best_roll_actions_for_{Box.SmallStraight.value}.csv\")"
   ]
  },
  {
   "cell_type": "code",
   "execution_count": null,
   "metadata": {},
   "outputs": [],
   "source": [
    "df_small_straight[\"expected_value\"] = 30 * df_small_straight[\"hit_probability\"]"
   ]
  },
  {
   "cell_type": "code",
   "execution_count": null,
   "metadata": {},
   "outputs": [],
   "source": [
    "df_small_straight.head()"
   ]
  },
  {
   "cell_type": "code",
   "execution_count": null,
   "metadata": {},
   "outputs": [],
   "source": [
    "def load_best_roll_action_tuples(box: Box) -> dict[Tuple[int, ...], Tuple[int, ...]]:\n",
    "    df = pd.read_csv(f\"best_roll_actions_for_{box.value}.csv\")\n",
    "    str_dict = dict(zip(df[\"roll_values\"], df[\"dice_values_to_roll\"]))\n",
    "    return {eval(k): eval(v) for k, v in str_dict.items()}"
   ]
  },
  {
   "cell_type": "code",
   "execution_count": null,
   "metadata": {},
   "outputs": [],
   "source": [
    "SMALL_STRAIGHT_BEST_ACTION_TUPLES = load_best_roll_action_tuples(Box.SmallStraight)\n",
    "LARGE_STRAIGHT_BEST_ACTION_TUPLES = load_best_roll_action_tuples(Box.LargeStraight)"
   ]
  },
  {
   "cell_type": "code",
   "execution_count": null,
   "metadata": {},
   "outputs": [],
   "source": [
    "len(SMALL_STRAIGHT_BEST_ACTION_TUPLES)"
   ]
  },
  {
   "cell_type": "code",
   "execution_count": null,
   "metadata": {},
   "outputs": [],
   "source": [
    "def best_roll_action_for_box(roll_values: RollValues, box: Box) -> Optional[RollAction]:\n",
    "    \"\"\"\n",
    "    Given a set of dice values and a box, chooses the dice to roll in order to maximize\n",
    "    the probability of checking the box. If the dice values already hit the box, `None`\n",
    "    is returned.\n",
    "    \"\"\"\n",
    "    roll_action = None\n",
    "\n",
    "    upper_box_names = [Box.Ones, Box.Twos, Box.Threes, Box.Fours, Box.Fives, Box.Sixes]\n",
    "    upper_box_values = [1, 2, 3, 4, 5, 6]\n",
    "    for box_name, box_value in zip(upper_box_names, upper_box_values):\n",
    "        if box == box_name:\n",
    "            roll_action = RollAction(*[v for v in roll_values.values if v != box_value])\n",
    "\n",
    "    # TODO: Handle the Chance case. For now I just won't roll any dice for this case.\n",
    "    if roll_values.checks_lower_box(box):\n",
    "        return None\n",
    "\n",
    "    if box in {Box.ThreeOfAKind, Box.FourOfAKind, Box.Yahtzee}:\n",
    "        roll_action = RollAction(*[v for v in roll_values.values if v != roll_values.mode_value()])\n",
    "\n",
    "    if box == Box.FullHouse:\n",
    "        if roll_values.checks_lower_box(Box.ThreeOfAKind):\n",
    "            #  Keep three dice that give ThreeOfAKind, and roll the other two dice\n",
    "            roll_action = RollAction(*remove_dice(roll_values, tuple(roll_values.mode_value() for _ in range(3))))\n",
    "        elif 2 in roll_values.value_counts.values():\n",
    "            # Keep all pairs, and roll the other dice\n",
    "            roll_action = RollAction(*[v for v in roll_values.values if roll_values.value_counts[v] != 2])\n",
    "        else:\n",
    "            # Roll all the dice\n",
    "            roll_action = RollAction(*roll_values.values)\n",
    "\n",
    "    if box == Box.SmallStraight:\n",
    "        roll_action = RollAction(*SMALL_STRAIGHT_BEST_ACTION_TUPLES[roll_values.values])\n",
    "    \n",
    "    if box == Box.LargeStraight:\n",
    "        roll_action = RollAction(*LARGE_STRAIGHT_BEST_ACTION_TUPLES[roll_values.values])\n",
    "    \n",
    "    return roll_action"
   ]
  },
  {
   "cell_type": "code",
   "execution_count": null,
   "metadata": {},
   "outputs": [],
   "source": [
    "best_roll_action_for_box(RollValues(1, 2, 3, 3, 4), Box.Yahtzee)"
   ]
  },
  {
   "cell_type": "code",
   "execution_count": null,
   "metadata": {},
   "outputs": [],
   "source": [
    "game_state = GameState()"
   ]
  },
  {
   "cell_type": "code",
   "execution_count": null,
   "metadata": {},
   "outputs": [],
   "source": [
    "game_state.start_turn()"
   ]
  },
  {
   "cell_type": "code",
   "execution_count": null,
   "metadata": {},
   "outputs": [],
   "source": [
    "for box in BoxCategories.LowerBox:\n",
    "    print(box.name, best_roll_action_for_box(game_state.roll_values, box))"
   ]
  },
  {
   "cell_type": "code",
   "execution_count": null,
   "metadata": {},
   "outputs": [],
   "source": [
    "game_state.take_action(RollAction(3, 4))"
   ]
  },
  {
   "cell_type": "code",
   "execution_count": null,
   "metadata": {},
   "outputs": [],
   "source": [
    "for box in BoxCategories.LowerBox:\n",
    "    print(box.name, best_roll_action_for_box(game_state.roll_values, box))"
   ]
  },
  {
   "cell_type": "code",
   "execution_count": null,
   "metadata": {},
   "outputs": [],
   "source": [
    "class BasicStrategyAgent(Agent):\n",
    "\n",
    "    def choose_action(self, game_state: GameState) -> Union[RollAction, ScoreAction]:\n",
    "        r = random.random()\n",
    "        if r < self.epsilon and len(game_state.possible_roll_actions) != 0:\n",
    "            action = random.choice(game_state.possible_roll_actions)\n",
    "        else:\n",
    "            action = game_state.possible_score_actions[0]\n",
    "        return action"
   ]
  },
  {
   "cell_type": "code",
   "execution_count": null,
   "metadata": {},
   "outputs": [],
   "source": [
    "def probability_of_rolling_values(*values: int):\n",
    "    \"\"\"\n",
    "    Given a set of dice values (not necessarily five dice),\n",
    "    returns the probability of rolling these values if this\n",
    "    number of dice are rolled.\n",
    "    \"\"\"\n",
    "    value_counts = Counter(values)\n",
    "    probability = math.factorial(len(values)) * (1 / 6) ** len(values)\n",
    "    for _, count in value_counts.items():\n",
    "        probability /= math.factorial(count)\n",
    "    return probability\n",
    "\n",
    "def hit_probability_from_action(\n",
    "    roll_values: RollValues,\n",
    "    roll_action: RollAction,\n",
    "    desired_next_roll_values: RollValues,\n",
    ") -> float:\n",
    "    values_that_stay = tuple(remove_dice(roll_values, roll_action.dice_values_to_roll))\n",
    "    values_needed_on_roll = remove_dice(desired_next_roll_values, values_that_stay)\n",
    "    if len(values_needed_on_roll) == len(roll_action.dice_values_to_roll):\n",
    "        return probability_of_rolling_values(*values_needed_on_roll)\n",
    "    else:\n",
    "        # In this case we can't achieve the desired values using roll_action\n",
    "        return 0"
   ]
  },
  {
   "cell_type": "code",
   "execution_count": null,
   "metadata": {},
   "outputs": [],
   "source": [
    "roll_tuples: List[Tuple[int, ...]] = []\n",
    "roll_action_tuples: List[Tuple[int, ...]] = []\n",
    "expected_scores: List[Dict[Box, float]] = []\n",
    "\n",
    "for roll_tuple in ALL_ROLL_TUPLES:\n",
    "    roll_values = RollValues(*roll_tuple)\n",
    "    roll_actions = roll_values.roll_actions\n",
    "    for roll_action in roll_actions:\n",
    "        expected_scores_by_box = {}\n",
    "        for box in Box:\n",
    "            # Probabilities of getting the desired roll values:\n",
    "            hit_probabilities = [hit_probability_from_action(roll_values, roll_action, RollValues(*desired_roll_tuple)) for desired_roll_tuple in ROLL_TUPLES_BY_BOX[box]]\n",
    "            # Scores of the desired rolls: \n",
    "            scores = [RollValues(*desired_roll_tuple).score_from_box(box) for desired_roll_tuple in ROLL_TUPLES_BY_BOX[box]]\n",
    "            expected_score = sum([p * s for p, s in zip(hit_probabilities, scores)])\n",
    "            roll_tuples.append(roll_tuple)\n",
    "            roll_action_tuples.append(roll_action.dice_values_to_roll)\n",
    "            expected_scores_by_box[box] = expected_score\n",
    "            expected_scores.append(expected_scores_by_box)"
   ]
  },
  {
   "cell_type": "code",
   "execution_count": null,
   "metadata": {},
   "outputs": [],
   "source": [
    "results = {\"roll_values\": roll_tuples, \"dice_values_to_roll\": roll_action_tuples, \"expected_score\": expected_scores}\n",
    "df = pd.DataFrame(results)\n",
    "df"
   ]
  },
  {
   "cell_type": "code",
   "execution_count": null,
   "metadata": {},
   "outputs": [],
   "source": [
    "df.to_csv(\"expected_scores_by_box.csv\")"
   ]
  },
  {
   "cell_type": "code",
   "execution_count": null,
   "metadata": {},
   "outputs": [],
   "source": [
    "del df"
   ]
  },
  {
   "cell_type": "code",
   "execution_count": null,
   "metadata": {},
   "outputs": [],
   "source": []
  }
 ],
 "metadata": {
  "kernelspec": {
   "display_name": "NN",
   "language": "python",
   "name": "python3"
  },
  "language_info": {
   "codemirror_mode": {
    "name": "ipython",
    "version": 3
   },
   "file_extension": ".py",
   "mimetype": "text/x-python",
   "name": "python",
   "nbconvert_exporter": "python",
   "pygments_lexer": "ipython3",
   "version": "3.11.5"
  }
 },
 "nbformat": 4,
 "nbformat_minor": 2
}
